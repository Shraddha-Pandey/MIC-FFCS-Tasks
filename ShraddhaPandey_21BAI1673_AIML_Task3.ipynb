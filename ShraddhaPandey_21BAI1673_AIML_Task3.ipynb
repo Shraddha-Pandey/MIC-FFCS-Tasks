{
  "nbformat": 4,
  "nbformat_minor": 0,
  "metadata": {
    "colab": {
      "provenance": []
    },
    "kernelspec": {
      "name": "python3",
      "display_name": "Python 3"
    },
    "language_info": {
      "name": "python"
    }
  },
  "cells": [
    {
      "cell_type": "code",
      "execution_count": 71,
      "metadata": {
        "id": "JXULxMxT5n1G"
      },
      "outputs": [],
      "source": [
        "import os\n",
        "import pandas as pd\n",
        "import numpy as np\n",
        "import matplotlib.pyplot as plt\n",
        "import seaborn as sns\n",
        "from scipy import stats as st\n",
        "\n",
        "%matplotlib inline"
      ]
    },
    {
      "cell_type": "code",
      "source": [
        "from google.colab import files\n",
        "data = files.upload()"
      ],
      "metadata": {
        "colab": {
          "base_uri": "https://localhost:8080/",
          "height": 73
        },
        "id": "McYprzfJ5tRw",
        "outputId": "2c8b2cf7-ed76-44c7-8df4-a6e9a637f292"
      },
      "execution_count": 2,
      "outputs": [
        {
          "output_type": "display_data",
          "data": {
            "text/plain": [
              "<IPython.core.display.HTML object>"
            ],
            "text/html": [
              "\n",
              "     <input type=\"file\" id=\"files-cc771f54-049c-4882-8e5a-050cb1a8d5b7\" name=\"files[]\" multiple disabled\n",
              "        style=\"border:none\" />\n",
              "     <output id=\"result-cc771f54-049c-4882-8e5a-050cb1a8d5b7\">\n",
              "      Upload widget is only available when the cell has been executed in the\n",
              "      current browser session. Please rerun this cell to enable.\n",
              "      </output>\n",
              "      <script>// Copyright 2017 Google LLC\n",
              "//\n",
              "// Licensed under the Apache License, Version 2.0 (the \"License\");\n",
              "// you may not use this file except in compliance with the License.\n",
              "// You may obtain a copy of the License at\n",
              "//\n",
              "//      http://www.apache.org/licenses/LICENSE-2.0\n",
              "//\n",
              "// Unless required by applicable law or agreed to in writing, software\n",
              "// distributed under the License is distributed on an \"AS IS\" BASIS,\n",
              "// WITHOUT WARRANTIES OR CONDITIONS OF ANY KIND, either express or implied.\n",
              "// See the License for the specific language governing permissions and\n",
              "// limitations under the License.\n",
              "\n",
              "/**\n",
              " * @fileoverview Helpers for google.colab Python module.\n",
              " */\n",
              "(function(scope) {\n",
              "function span(text, styleAttributes = {}) {\n",
              "  const element = document.createElement('span');\n",
              "  element.textContent = text;\n",
              "  for (const key of Object.keys(styleAttributes)) {\n",
              "    element.style[key] = styleAttributes[key];\n",
              "  }\n",
              "  return element;\n",
              "}\n",
              "\n",
              "// Max number of bytes which will be uploaded at a time.\n",
              "const MAX_PAYLOAD_SIZE = 100 * 1024;\n",
              "\n",
              "function _uploadFiles(inputId, outputId) {\n",
              "  const steps = uploadFilesStep(inputId, outputId);\n",
              "  const outputElement = document.getElementById(outputId);\n",
              "  // Cache steps on the outputElement to make it available for the next call\n",
              "  // to uploadFilesContinue from Python.\n",
              "  outputElement.steps = steps;\n",
              "\n",
              "  return _uploadFilesContinue(outputId);\n",
              "}\n",
              "\n",
              "// This is roughly an async generator (not supported in the browser yet),\n",
              "// where there are multiple asynchronous steps and the Python side is going\n",
              "// to poll for completion of each step.\n",
              "// This uses a Promise to block the python side on completion of each step,\n",
              "// then passes the result of the previous step as the input to the next step.\n",
              "function _uploadFilesContinue(outputId) {\n",
              "  const outputElement = document.getElementById(outputId);\n",
              "  const steps = outputElement.steps;\n",
              "\n",
              "  const next = steps.next(outputElement.lastPromiseValue);\n",
              "  return Promise.resolve(next.value.promise).then((value) => {\n",
              "    // Cache the last promise value to make it available to the next\n",
              "    // step of the generator.\n",
              "    outputElement.lastPromiseValue = value;\n",
              "    return next.value.response;\n",
              "  });\n",
              "}\n",
              "\n",
              "/**\n",
              " * Generator function which is called between each async step of the upload\n",
              " * process.\n",
              " * @param {string} inputId Element ID of the input file picker element.\n",
              " * @param {string} outputId Element ID of the output display.\n",
              " * @return {!Iterable<!Object>} Iterable of next steps.\n",
              " */\n",
              "function* uploadFilesStep(inputId, outputId) {\n",
              "  const inputElement = document.getElementById(inputId);\n",
              "  inputElement.disabled = false;\n",
              "\n",
              "  const outputElement = document.getElementById(outputId);\n",
              "  outputElement.innerHTML = '';\n",
              "\n",
              "  const pickedPromise = new Promise((resolve) => {\n",
              "    inputElement.addEventListener('change', (e) => {\n",
              "      resolve(e.target.files);\n",
              "    });\n",
              "  });\n",
              "\n",
              "  const cancel = document.createElement('button');\n",
              "  inputElement.parentElement.appendChild(cancel);\n",
              "  cancel.textContent = 'Cancel upload';\n",
              "  const cancelPromise = new Promise((resolve) => {\n",
              "    cancel.onclick = () => {\n",
              "      resolve(null);\n",
              "    };\n",
              "  });\n",
              "\n",
              "  // Wait for the user to pick the files.\n",
              "  const files = yield {\n",
              "    promise: Promise.race([pickedPromise, cancelPromise]),\n",
              "    response: {\n",
              "      action: 'starting',\n",
              "    }\n",
              "  };\n",
              "\n",
              "  cancel.remove();\n",
              "\n",
              "  // Disable the input element since further picks are not allowed.\n",
              "  inputElement.disabled = true;\n",
              "\n",
              "  if (!files) {\n",
              "    return {\n",
              "      response: {\n",
              "        action: 'complete',\n",
              "      }\n",
              "    };\n",
              "  }\n",
              "\n",
              "  for (const file of files) {\n",
              "    const li = document.createElement('li');\n",
              "    li.append(span(file.name, {fontWeight: 'bold'}));\n",
              "    li.append(span(\n",
              "        `(${file.type || 'n/a'}) - ${file.size} bytes, ` +\n",
              "        `last modified: ${\n",
              "            file.lastModifiedDate ? file.lastModifiedDate.toLocaleDateString() :\n",
              "                                    'n/a'} - `));\n",
              "    const percent = span('0% done');\n",
              "    li.appendChild(percent);\n",
              "\n",
              "    outputElement.appendChild(li);\n",
              "\n",
              "    const fileDataPromise = new Promise((resolve) => {\n",
              "      const reader = new FileReader();\n",
              "      reader.onload = (e) => {\n",
              "        resolve(e.target.result);\n",
              "      };\n",
              "      reader.readAsArrayBuffer(file);\n",
              "    });\n",
              "    // Wait for the data to be ready.\n",
              "    let fileData = yield {\n",
              "      promise: fileDataPromise,\n",
              "      response: {\n",
              "        action: 'continue',\n",
              "      }\n",
              "    };\n",
              "\n",
              "    // Use a chunked sending to avoid message size limits. See b/62115660.\n",
              "    let position = 0;\n",
              "    do {\n",
              "      const length = Math.min(fileData.byteLength - position, MAX_PAYLOAD_SIZE);\n",
              "      const chunk = new Uint8Array(fileData, position, length);\n",
              "      position += length;\n",
              "\n",
              "      const base64 = btoa(String.fromCharCode.apply(null, chunk));\n",
              "      yield {\n",
              "        response: {\n",
              "          action: 'append',\n",
              "          file: file.name,\n",
              "          data: base64,\n",
              "        },\n",
              "      };\n",
              "\n",
              "      let percentDone = fileData.byteLength === 0 ?\n",
              "          100 :\n",
              "          Math.round((position / fileData.byteLength) * 100);\n",
              "      percent.textContent = `${percentDone}% done`;\n",
              "\n",
              "    } while (position < fileData.byteLength);\n",
              "  }\n",
              "\n",
              "  // All done.\n",
              "  yield {\n",
              "    response: {\n",
              "      action: 'complete',\n",
              "    }\n",
              "  };\n",
              "}\n",
              "\n",
              "scope.google = scope.google || {};\n",
              "scope.google.colab = scope.google.colab || {};\n",
              "scope.google.colab._files = {\n",
              "  _uploadFiles,\n",
              "  _uploadFilesContinue,\n",
              "};\n",
              "})(self);\n",
              "</script> "
            ]
          },
          "metadata": {}
        },
        {
          "output_type": "stream",
          "name": "stdout",
          "text": [
            "Saving train.csv to train.csv\n"
          ]
        }
      ]
    },
    {
      "cell_type": "code",
      "source": [
        "train_data = pd.read_csv(\"train.csv\")\n",
        "train_data.head()"
      ],
      "metadata": {
        "colab": {
          "base_uri": "https://localhost:8080/",
          "height": 507
        },
        "id": "NV4ESVR255o3",
        "outputId": "5eaefdcf-93b9-4531-c9dc-922fb23f5eb6"
      },
      "execution_count": 3,
      "outputs": [
        {
          "output_type": "stream",
          "name": "stderr",
          "text": [
            "<ipython-input-3-d15a0847c97f>:1: DtypeWarning: Columns (26) have mixed types. Specify dtype option on import or set low_memory=False.\n",
            "  train_data = pd.read_csv(\"train.csv\")\n"
          ]
        },
        {
          "output_type": "execute_result",
          "data": {
            "text/plain": [
              "       ID Customer_ID     Month           Name   Age          SSN Occupation  \\\n",
              "0  0x1602   CUS_0xd40   January  Aaron Maashoh    23  821-00-0265  Scientist   \n",
              "1  0x1603   CUS_0xd40  February  Aaron Maashoh    23  821-00-0265  Scientist   \n",
              "2  0x1604   CUS_0xd40     March  Aaron Maashoh  -500  821-00-0265  Scientist   \n",
              "3  0x1605   CUS_0xd40     April  Aaron Maashoh    23  821-00-0265  Scientist   \n",
              "4  0x1606   CUS_0xd40       May  Aaron Maashoh    23  821-00-0265  Scientist   \n",
              "\n",
              "  Annual_Income  Monthly_Inhand_Salary  Num_Bank_Accounts  ...  Credit_Mix  \\\n",
              "0      19114.12            1824.843333                  3  ...           _   \n",
              "1      19114.12                    NaN                  3  ...        Good   \n",
              "2      19114.12                    NaN                  3  ...        Good   \n",
              "3      19114.12                    NaN                  3  ...        Good   \n",
              "4      19114.12            1824.843333                  3  ...        Good   \n",
              "\n",
              "   Outstanding_Debt Credit_Utilization_Ratio     Credit_History_Age  \\\n",
              "0            809.98                26.822620  22 Years and 1 Months   \n",
              "1            809.98                31.944960                    NaN   \n",
              "2            809.98                28.609352  22 Years and 3 Months   \n",
              "3            809.98                31.377862  22 Years and 4 Months   \n",
              "4            809.98                24.797347  22 Years and 5 Months   \n",
              "\n",
              "   Payment_of_Min_Amount Total_EMI_per_month Amount_invested_monthly  \\\n",
              "0                     No           49.574949       80.41529543900253   \n",
              "1                     No           49.574949      118.28022162236736   \n",
              "2                     No           49.574949         81.699521264648   \n",
              "3                     No           49.574949       199.4580743910713   \n",
              "4                     No           49.574949      41.420153086217326   \n",
              "\n",
              "                  Payment_Behaviour     Monthly_Balance Credit_Score  \n",
              "0   High_spent_Small_value_payments  312.49408867943663         Good  \n",
              "1    Low_spent_Large_value_payments  284.62916249607184         Good  \n",
              "2   Low_spent_Medium_value_payments   331.2098628537912         Good  \n",
              "3    Low_spent_Small_value_payments  223.45130972736786         Good  \n",
              "4  High_spent_Medium_value_payments  341.48923103222177         Good  \n",
              "\n",
              "[5 rows x 28 columns]"
            ],
            "text/html": [
              "\n",
              "  <div id=\"df-4fbd23a3-9b90-46ea-913b-794b73a59970\">\n",
              "    <div class=\"colab-df-container\">\n",
              "      <div>\n",
              "<style scoped>\n",
              "    .dataframe tbody tr th:only-of-type {\n",
              "        vertical-align: middle;\n",
              "    }\n",
              "\n",
              "    .dataframe tbody tr th {\n",
              "        vertical-align: top;\n",
              "    }\n",
              "\n",
              "    .dataframe thead th {\n",
              "        text-align: right;\n",
              "    }\n",
              "</style>\n",
              "<table border=\"1\" class=\"dataframe\">\n",
              "  <thead>\n",
              "    <tr style=\"text-align: right;\">\n",
              "      <th></th>\n",
              "      <th>ID</th>\n",
              "      <th>Customer_ID</th>\n",
              "      <th>Month</th>\n",
              "      <th>Name</th>\n",
              "      <th>Age</th>\n",
              "      <th>SSN</th>\n",
              "      <th>Occupation</th>\n",
              "      <th>Annual_Income</th>\n",
              "      <th>Monthly_Inhand_Salary</th>\n",
              "      <th>Num_Bank_Accounts</th>\n",
              "      <th>...</th>\n",
              "      <th>Credit_Mix</th>\n",
              "      <th>Outstanding_Debt</th>\n",
              "      <th>Credit_Utilization_Ratio</th>\n",
              "      <th>Credit_History_Age</th>\n",
              "      <th>Payment_of_Min_Amount</th>\n",
              "      <th>Total_EMI_per_month</th>\n",
              "      <th>Amount_invested_monthly</th>\n",
              "      <th>Payment_Behaviour</th>\n",
              "      <th>Monthly_Balance</th>\n",
              "      <th>Credit_Score</th>\n",
              "    </tr>\n",
              "  </thead>\n",
              "  <tbody>\n",
              "    <tr>\n",
              "      <th>0</th>\n",
              "      <td>0x1602</td>\n",
              "      <td>CUS_0xd40</td>\n",
              "      <td>January</td>\n",
              "      <td>Aaron Maashoh</td>\n",
              "      <td>23</td>\n",
              "      <td>821-00-0265</td>\n",
              "      <td>Scientist</td>\n",
              "      <td>19114.12</td>\n",
              "      <td>1824.843333</td>\n",
              "      <td>3</td>\n",
              "      <td>...</td>\n",
              "      <td>_</td>\n",
              "      <td>809.98</td>\n",
              "      <td>26.822620</td>\n",
              "      <td>22 Years and 1 Months</td>\n",
              "      <td>No</td>\n",
              "      <td>49.574949</td>\n",
              "      <td>80.41529543900253</td>\n",
              "      <td>High_spent_Small_value_payments</td>\n",
              "      <td>312.49408867943663</td>\n",
              "      <td>Good</td>\n",
              "    </tr>\n",
              "    <tr>\n",
              "      <th>1</th>\n",
              "      <td>0x1603</td>\n",
              "      <td>CUS_0xd40</td>\n",
              "      <td>February</td>\n",
              "      <td>Aaron Maashoh</td>\n",
              "      <td>23</td>\n",
              "      <td>821-00-0265</td>\n",
              "      <td>Scientist</td>\n",
              "      <td>19114.12</td>\n",
              "      <td>NaN</td>\n",
              "      <td>3</td>\n",
              "      <td>...</td>\n",
              "      <td>Good</td>\n",
              "      <td>809.98</td>\n",
              "      <td>31.944960</td>\n",
              "      <td>NaN</td>\n",
              "      <td>No</td>\n",
              "      <td>49.574949</td>\n",
              "      <td>118.28022162236736</td>\n",
              "      <td>Low_spent_Large_value_payments</td>\n",
              "      <td>284.62916249607184</td>\n",
              "      <td>Good</td>\n",
              "    </tr>\n",
              "    <tr>\n",
              "      <th>2</th>\n",
              "      <td>0x1604</td>\n",
              "      <td>CUS_0xd40</td>\n",
              "      <td>March</td>\n",
              "      <td>Aaron Maashoh</td>\n",
              "      <td>-500</td>\n",
              "      <td>821-00-0265</td>\n",
              "      <td>Scientist</td>\n",
              "      <td>19114.12</td>\n",
              "      <td>NaN</td>\n",
              "      <td>3</td>\n",
              "      <td>...</td>\n",
              "      <td>Good</td>\n",
              "      <td>809.98</td>\n",
              "      <td>28.609352</td>\n",
              "      <td>22 Years and 3 Months</td>\n",
              "      <td>No</td>\n",
              "      <td>49.574949</td>\n",
              "      <td>81.699521264648</td>\n",
              "      <td>Low_spent_Medium_value_payments</td>\n",
              "      <td>331.2098628537912</td>\n",
              "      <td>Good</td>\n",
              "    </tr>\n",
              "    <tr>\n",
              "      <th>3</th>\n",
              "      <td>0x1605</td>\n",
              "      <td>CUS_0xd40</td>\n",
              "      <td>April</td>\n",
              "      <td>Aaron Maashoh</td>\n",
              "      <td>23</td>\n",
              "      <td>821-00-0265</td>\n",
              "      <td>Scientist</td>\n",
              "      <td>19114.12</td>\n",
              "      <td>NaN</td>\n",
              "      <td>3</td>\n",
              "      <td>...</td>\n",
              "      <td>Good</td>\n",
              "      <td>809.98</td>\n",
              "      <td>31.377862</td>\n",
              "      <td>22 Years and 4 Months</td>\n",
              "      <td>No</td>\n",
              "      <td>49.574949</td>\n",
              "      <td>199.4580743910713</td>\n",
              "      <td>Low_spent_Small_value_payments</td>\n",
              "      <td>223.45130972736786</td>\n",
              "      <td>Good</td>\n",
              "    </tr>\n",
              "    <tr>\n",
              "      <th>4</th>\n",
              "      <td>0x1606</td>\n",
              "      <td>CUS_0xd40</td>\n",
              "      <td>May</td>\n",
              "      <td>Aaron Maashoh</td>\n",
              "      <td>23</td>\n",
              "      <td>821-00-0265</td>\n",
              "      <td>Scientist</td>\n",
              "      <td>19114.12</td>\n",
              "      <td>1824.843333</td>\n",
              "      <td>3</td>\n",
              "      <td>...</td>\n",
              "      <td>Good</td>\n",
              "      <td>809.98</td>\n",
              "      <td>24.797347</td>\n",
              "      <td>22 Years and 5 Months</td>\n",
              "      <td>No</td>\n",
              "      <td>49.574949</td>\n",
              "      <td>41.420153086217326</td>\n",
              "      <td>High_spent_Medium_value_payments</td>\n",
              "      <td>341.48923103222177</td>\n",
              "      <td>Good</td>\n",
              "    </tr>\n",
              "  </tbody>\n",
              "</table>\n",
              "<p>5 rows × 28 columns</p>\n",
              "</div>\n",
              "      <button class=\"colab-df-convert\" onclick=\"convertToInteractive('df-4fbd23a3-9b90-46ea-913b-794b73a59970')\"\n",
              "              title=\"Convert this dataframe to an interactive table.\"\n",
              "              style=\"display:none;\">\n",
              "        \n",
              "  <svg xmlns=\"http://www.w3.org/2000/svg\" height=\"24px\"viewBox=\"0 0 24 24\"\n",
              "       width=\"24px\">\n",
              "    <path d=\"M0 0h24v24H0V0z\" fill=\"none\"/>\n",
              "    <path d=\"M18.56 5.44l.94 2.06.94-2.06 2.06-.94-2.06-.94-.94-2.06-.94 2.06-2.06.94zm-11 1L8.5 8.5l.94-2.06 2.06-.94-2.06-.94L8.5 2.5l-.94 2.06-2.06.94zm10 10l.94 2.06.94-2.06 2.06-.94-2.06-.94-.94-2.06-.94 2.06-2.06.94z\"/><path d=\"M17.41 7.96l-1.37-1.37c-.4-.4-.92-.59-1.43-.59-.52 0-1.04.2-1.43.59L10.3 9.45l-7.72 7.72c-.78.78-.78 2.05 0 2.83L4 21.41c.39.39.9.59 1.41.59.51 0 1.02-.2 1.41-.59l7.78-7.78 2.81-2.81c.8-.78.8-2.07 0-2.86zM5.41 20L4 18.59l7.72-7.72 1.47 1.35L5.41 20z\"/>\n",
              "  </svg>\n",
              "      </button>\n",
              "      \n",
              "  <style>\n",
              "    .colab-df-container {\n",
              "      display:flex;\n",
              "      flex-wrap:wrap;\n",
              "      gap: 12px;\n",
              "    }\n",
              "\n",
              "    .colab-df-convert {\n",
              "      background-color: #E8F0FE;\n",
              "      border: none;\n",
              "      border-radius: 50%;\n",
              "      cursor: pointer;\n",
              "      display: none;\n",
              "      fill: #1967D2;\n",
              "      height: 32px;\n",
              "      padding: 0 0 0 0;\n",
              "      width: 32px;\n",
              "    }\n",
              "\n",
              "    .colab-df-convert:hover {\n",
              "      background-color: #E2EBFA;\n",
              "      box-shadow: 0px 1px 2px rgba(60, 64, 67, 0.3), 0px 1px 3px 1px rgba(60, 64, 67, 0.15);\n",
              "      fill: #174EA6;\n",
              "    }\n",
              "\n",
              "    [theme=dark] .colab-df-convert {\n",
              "      background-color: #3B4455;\n",
              "      fill: #D2E3FC;\n",
              "    }\n",
              "\n",
              "    [theme=dark] .colab-df-convert:hover {\n",
              "      background-color: #434B5C;\n",
              "      box-shadow: 0px 1px 3px 1px rgba(0, 0, 0, 0.15);\n",
              "      filter: drop-shadow(0px 1px 2px rgba(0, 0, 0, 0.3));\n",
              "      fill: #FFFFFF;\n",
              "    }\n",
              "  </style>\n",
              "\n",
              "      <script>\n",
              "        const buttonEl =\n",
              "          document.querySelector('#df-4fbd23a3-9b90-46ea-913b-794b73a59970 button.colab-df-convert');\n",
              "        buttonEl.style.display =\n",
              "          google.colab.kernel.accessAllowed ? 'block' : 'none';\n",
              "\n",
              "        async function convertToInteractive(key) {\n",
              "          const element = document.querySelector('#df-4fbd23a3-9b90-46ea-913b-794b73a59970');\n",
              "          const dataTable =\n",
              "            await google.colab.kernel.invokeFunction('convertToInteractive',\n",
              "                                                     [key], {});\n",
              "          if (!dataTable) return;\n",
              "\n",
              "          const docLinkHtml = 'Like what you see? Visit the ' +\n",
              "            '<a target=\"_blank\" href=https://colab.research.google.com/notebooks/data_table.ipynb>data table notebook</a>'\n",
              "            + ' to learn more about interactive tables.';\n",
              "          element.innerHTML = '';\n",
              "          dataTable['output_type'] = 'display_data';\n",
              "          await google.colab.output.renderOutput(dataTable, element);\n",
              "          const docLink = document.createElement('div');\n",
              "          docLink.innerHTML = docLinkHtml;\n",
              "          element.appendChild(docLink);\n",
              "        }\n",
              "      </script>\n",
              "    </div>\n",
              "  </div>\n",
              "  "
            ]
          },
          "metadata": {},
          "execution_count": 3
        }
      ]
    },
    {
      "cell_type": "code",
      "source": [
        "train_data.shape"
      ],
      "metadata": {
        "colab": {
          "base_uri": "https://localhost:8080/"
        },
        "id": "tpyhFmZd8Ww-",
        "outputId": "263fd690-b4e5-4cf1-de8a-8a37483e0405"
      },
      "execution_count": 4,
      "outputs": [
        {
          "output_type": "execute_result",
          "data": {
            "text/plain": [
              "(100000, 28)"
            ]
          },
          "metadata": {},
          "execution_count": 4
        }
      ]
    },
    {
      "cell_type": "code",
      "source": [
        "train_data.info()"
      ],
      "metadata": {
        "colab": {
          "base_uri": "https://localhost:8080/"
        },
        "id": "7tsTN6tA9qFK",
        "outputId": "bb235398-1d02-4a60-95f4-998bf881159e"
      },
      "execution_count": 5,
      "outputs": [
        {
          "output_type": "stream",
          "name": "stdout",
          "text": [
            "<class 'pandas.core.frame.DataFrame'>\n",
            "RangeIndex: 100000 entries, 0 to 99999\n",
            "Data columns (total 28 columns):\n",
            " #   Column                    Non-Null Count   Dtype  \n",
            "---  ------                    --------------   -----  \n",
            " 0   ID                        100000 non-null  object \n",
            " 1   Customer_ID               100000 non-null  object \n",
            " 2   Month                     100000 non-null  object \n",
            " 3   Name                      90015 non-null   object \n",
            " 4   Age                       100000 non-null  object \n",
            " 5   SSN                       100000 non-null  object \n",
            " 6   Occupation                100000 non-null  object \n",
            " 7   Annual_Income             100000 non-null  object \n",
            " 8   Monthly_Inhand_Salary     84998 non-null   float64\n",
            " 9   Num_Bank_Accounts         100000 non-null  int64  \n",
            " 10  Num_Credit_Card           100000 non-null  int64  \n",
            " 11  Interest_Rate             100000 non-null  int64  \n",
            " 12  Num_of_Loan               100000 non-null  object \n",
            " 13  Type_of_Loan              88592 non-null   object \n",
            " 14  Delay_from_due_date       100000 non-null  int64  \n",
            " 15  Num_of_Delayed_Payment    92998 non-null   object \n",
            " 16  Changed_Credit_Limit      100000 non-null  object \n",
            " 17  Num_Credit_Inquiries      98035 non-null   float64\n",
            " 18  Credit_Mix                100000 non-null  object \n",
            " 19  Outstanding_Debt          100000 non-null  object \n",
            " 20  Credit_Utilization_Ratio  100000 non-null  float64\n",
            " 21  Credit_History_Age        90970 non-null   object \n",
            " 22  Payment_of_Min_Amount     100000 non-null  object \n",
            " 23  Total_EMI_per_month       100000 non-null  float64\n",
            " 24  Amount_invested_monthly   95521 non-null   object \n",
            " 25  Payment_Behaviour         100000 non-null  object \n",
            " 26  Monthly_Balance           98800 non-null   object \n",
            " 27  Credit_Score              100000 non-null  object \n",
            "dtypes: float64(4), int64(4), object(20)\n",
            "memory usage: 21.4+ MB\n"
          ]
        }
      ]
    },
    {
      "cell_type": "code",
      "source": [
        "train_data.describe()"
      ],
      "metadata": {
        "colab": {
          "base_uri": "https://localhost:8080/",
          "height": 300
        },
        "id": "mNrNljPv9sJb",
        "outputId": "bd3dde4a-189d-421a-a37e-66edf9ee83a0"
      },
      "execution_count": 6,
      "outputs": [
        {
          "output_type": "execute_result",
          "data": {
            "text/plain": [
              "       Monthly_Inhand_Salary  Num_Bank_Accounts  Num_Credit_Card  \\\n",
              "count           84998.000000      100000.000000     100000.00000   \n",
              "mean             4194.170850          17.091280         22.47443   \n",
              "std              3183.686167         117.404834        129.05741   \n",
              "min               303.645417          -1.000000          0.00000   \n",
              "25%              1625.568229           3.000000          4.00000   \n",
              "50%              3093.745000           6.000000          5.00000   \n",
              "75%              5957.448333           7.000000          7.00000   \n",
              "max             15204.633333        1798.000000       1499.00000   \n",
              "\n",
              "       Interest_Rate  Delay_from_due_date  Num_Credit_Inquiries  \\\n",
              "count  100000.000000        100000.000000          98035.000000   \n",
              "mean       72.466040            21.068780             27.754251   \n",
              "std       466.422621            14.860104            193.177339   \n",
              "min         1.000000            -5.000000              0.000000   \n",
              "25%         8.000000            10.000000              3.000000   \n",
              "50%        13.000000            18.000000              6.000000   \n",
              "75%        20.000000            28.000000              9.000000   \n",
              "max      5797.000000            67.000000           2597.000000   \n",
              "\n",
              "       Credit_Utilization_Ratio  Total_EMI_per_month  \n",
              "count             100000.000000        100000.000000  \n",
              "mean                  32.285173          1403.118217  \n",
              "std                    5.116875          8306.041270  \n",
              "min                   20.000000             0.000000  \n",
              "25%                   28.052567            30.306660  \n",
              "50%                   32.305784            69.249473  \n",
              "75%                   36.496663           161.224249  \n",
              "max                   50.000000         82331.000000  "
            ],
            "text/html": [
              "\n",
              "  <div id=\"df-23f4d7ba-6b6c-4a84-a9c9-f2fe8f051cd9\">\n",
              "    <div class=\"colab-df-container\">\n",
              "      <div>\n",
              "<style scoped>\n",
              "    .dataframe tbody tr th:only-of-type {\n",
              "        vertical-align: middle;\n",
              "    }\n",
              "\n",
              "    .dataframe tbody tr th {\n",
              "        vertical-align: top;\n",
              "    }\n",
              "\n",
              "    .dataframe thead th {\n",
              "        text-align: right;\n",
              "    }\n",
              "</style>\n",
              "<table border=\"1\" class=\"dataframe\">\n",
              "  <thead>\n",
              "    <tr style=\"text-align: right;\">\n",
              "      <th></th>\n",
              "      <th>Monthly_Inhand_Salary</th>\n",
              "      <th>Num_Bank_Accounts</th>\n",
              "      <th>Num_Credit_Card</th>\n",
              "      <th>Interest_Rate</th>\n",
              "      <th>Delay_from_due_date</th>\n",
              "      <th>Num_Credit_Inquiries</th>\n",
              "      <th>Credit_Utilization_Ratio</th>\n",
              "      <th>Total_EMI_per_month</th>\n",
              "    </tr>\n",
              "  </thead>\n",
              "  <tbody>\n",
              "    <tr>\n",
              "      <th>count</th>\n",
              "      <td>84998.000000</td>\n",
              "      <td>100000.000000</td>\n",
              "      <td>100000.00000</td>\n",
              "      <td>100000.000000</td>\n",
              "      <td>100000.000000</td>\n",
              "      <td>98035.000000</td>\n",
              "      <td>100000.000000</td>\n",
              "      <td>100000.000000</td>\n",
              "    </tr>\n",
              "    <tr>\n",
              "      <th>mean</th>\n",
              "      <td>4194.170850</td>\n",
              "      <td>17.091280</td>\n",
              "      <td>22.47443</td>\n",
              "      <td>72.466040</td>\n",
              "      <td>21.068780</td>\n",
              "      <td>27.754251</td>\n",
              "      <td>32.285173</td>\n",
              "      <td>1403.118217</td>\n",
              "    </tr>\n",
              "    <tr>\n",
              "      <th>std</th>\n",
              "      <td>3183.686167</td>\n",
              "      <td>117.404834</td>\n",
              "      <td>129.05741</td>\n",
              "      <td>466.422621</td>\n",
              "      <td>14.860104</td>\n",
              "      <td>193.177339</td>\n",
              "      <td>5.116875</td>\n",
              "      <td>8306.041270</td>\n",
              "    </tr>\n",
              "    <tr>\n",
              "      <th>min</th>\n",
              "      <td>303.645417</td>\n",
              "      <td>-1.000000</td>\n",
              "      <td>0.00000</td>\n",
              "      <td>1.000000</td>\n",
              "      <td>-5.000000</td>\n",
              "      <td>0.000000</td>\n",
              "      <td>20.000000</td>\n",
              "      <td>0.000000</td>\n",
              "    </tr>\n",
              "    <tr>\n",
              "      <th>25%</th>\n",
              "      <td>1625.568229</td>\n",
              "      <td>3.000000</td>\n",
              "      <td>4.00000</td>\n",
              "      <td>8.000000</td>\n",
              "      <td>10.000000</td>\n",
              "      <td>3.000000</td>\n",
              "      <td>28.052567</td>\n",
              "      <td>30.306660</td>\n",
              "    </tr>\n",
              "    <tr>\n",
              "      <th>50%</th>\n",
              "      <td>3093.745000</td>\n",
              "      <td>6.000000</td>\n",
              "      <td>5.00000</td>\n",
              "      <td>13.000000</td>\n",
              "      <td>18.000000</td>\n",
              "      <td>6.000000</td>\n",
              "      <td>32.305784</td>\n",
              "      <td>69.249473</td>\n",
              "    </tr>\n",
              "    <tr>\n",
              "      <th>75%</th>\n",
              "      <td>5957.448333</td>\n",
              "      <td>7.000000</td>\n",
              "      <td>7.00000</td>\n",
              "      <td>20.000000</td>\n",
              "      <td>28.000000</td>\n",
              "      <td>9.000000</td>\n",
              "      <td>36.496663</td>\n",
              "      <td>161.224249</td>\n",
              "    </tr>\n",
              "    <tr>\n",
              "      <th>max</th>\n",
              "      <td>15204.633333</td>\n",
              "      <td>1798.000000</td>\n",
              "      <td>1499.00000</td>\n",
              "      <td>5797.000000</td>\n",
              "      <td>67.000000</td>\n",
              "      <td>2597.000000</td>\n",
              "      <td>50.000000</td>\n",
              "      <td>82331.000000</td>\n",
              "    </tr>\n",
              "  </tbody>\n",
              "</table>\n",
              "</div>\n",
              "      <button class=\"colab-df-convert\" onclick=\"convertToInteractive('df-23f4d7ba-6b6c-4a84-a9c9-f2fe8f051cd9')\"\n",
              "              title=\"Convert this dataframe to an interactive table.\"\n",
              "              style=\"display:none;\">\n",
              "        \n",
              "  <svg xmlns=\"http://www.w3.org/2000/svg\" height=\"24px\"viewBox=\"0 0 24 24\"\n",
              "       width=\"24px\">\n",
              "    <path d=\"M0 0h24v24H0V0z\" fill=\"none\"/>\n",
              "    <path d=\"M18.56 5.44l.94 2.06.94-2.06 2.06-.94-2.06-.94-.94-2.06-.94 2.06-2.06.94zm-11 1L8.5 8.5l.94-2.06 2.06-.94-2.06-.94L8.5 2.5l-.94 2.06-2.06.94zm10 10l.94 2.06.94-2.06 2.06-.94-2.06-.94-.94-2.06-.94 2.06-2.06.94z\"/><path d=\"M17.41 7.96l-1.37-1.37c-.4-.4-.92-.59-1.43-.59-.52 0-1.04.2-1.43.59L10.3 9.45l-7.72 7.72c-.78.78-.78 2.05 0 2.83L4 21.41c.39.39.9.59 1.41.59.51 0 1.02-.2 1.41-.59l7.78-7.78 2.81-2.81c.8-.78.8-2.07 0-2.86zM5.41 20L4 18.59l7.72-7.72 1.47 1.35L5.41 20z\"/>\n",
              "  </svg>\n",
              "      </button>\n",
              "      \n",
              "  <style>\n",
              "    .colab-df-container {\n",
              "      display:flex;\n",
              "      flex-wrap:wrap;\n",
              "      gap: 12px;\n",
              "    }\n",
              "\n",
              "    .colab-df-convert {\n",
              "      background-color: #E8F0FE;\n",
              "      border: none;\n",
              "      border-radius: 50%;\n",
              "      cursor: pointer;\n",
              "      display: none;\n",
              "      fill: #1967D2;\n",
              "      height: 32px;\n",
              "      padding: 0 0 0 0;\n",
              "      width: 32px;\n",
              "    }\n",
              "\n",
              "    .colab-df-convert:hover {\n",
              "      background-color: #E2EBFA;\n",
              "      box-shadow: 0px 1px 2px rgba(60, 64, 67, 0.3), 0px 1px 3px 1px rgba(60, 64, 67, 0.15);\n",
              "      fill: #174EA6;\n",
              "    }\n",
              "\n",
              "    [theme=dark] .colab-df-convert {\n",
              "      background-color: #3B4455;\n",
              "      fill: #D2E3FC;\n",
              "    }\n",
              "\n",
              "    [theme=dark] .colab-df-convert:hover {\n",
              "      background-color: #434B5C;\n",
              "      box-shadow: 0px 1px 3px 1px rgba(0, 0, 0, 0.15);\n",
              "      filter: drop-shadow(0px 1px 2px rgba(0, 0, 0, 0.3));\n",
              "      fill: #FFFFFF;\n",
              "    }\n",
              "  </style>\n",
              "\n",
              "      <script>\n",
              "        const buttonEl =\n",
              "          document.querySelector('#df-23f4d7ba-6b6c-4a84-a9c9-f2fe8f051cd9 button.colab-df-convert');\n",
              "        buttonEl.style.display =\n",
              "          google.colab.kernel.accessAllowed ? 'block' : 'none';\n",
              "\n",
              "        async function convertToInteractive(key) {\n",
              "          const element = document.querySelector('#df-23f4d7ba-6b6c-4a84-a9c9-f2fe8f051cd9');\n",
              "          const dataTable =\n",
              "            await google.colab.kernel.invokeFunction('convertToInteractive',\n",
              "                                                     [key], {});\n",
              "          if (!dataTable) return;\n",
              "\n",
              "          const docLinkHtml = 'Like what you see? Visit the ' +\n",
              "            '<a target=\"_blank\" href=https://colab.research.google.com/notebooks/data_table.ipynb>data table notebook</a>'\n",
              "            + ' to learn more about interactive tables.';\n",
              "          element.innerHTML = '';\n",
              "          dataTable['output_type'] = 'display_data';\n",
              "          await google.colab.output.renderOutput(dataTable, element);\n",
              "          const docLink = document.createElement('div');\n",
              "          docLink.innerHTML = docLinkHtml;\n",
              "          element.appendChild(docLink);\n",
              "        }\n",
              "      </script>\n",
              "    </div>\n",
              "  </div>\n",
              "  "
            ]
          },
          "metadata": {},
          "execution_count": 6
        }
      ]
    },
    {
      "cell_type": "markdown",
      "source": [
        "# Preprocessing the Data\n"
      ],
      "metadata": {
        "id": "TagZxPBemrJ2"
      }
    },
    {
      "cell_type": "code",
      "source": [
        "#change type to category\n",
        "\n",
        "category_cols = ['Month', 'Occupation', 'Type_of_Loan', 'Credit_Mix', 'Payment_of_Min_Amount', 'Payment_Behaviour', 'Credit_Score']\n",
        "train_data[category_cols] = train_data[category_cols].astype('category')"
      ],
      "metadata": {
        "id": "dejXBiKL9u_g"
      },
      "execution_count": 7,
      "outputs": []
    },
    {
      "cell_type": "code",
      "source": [
        "train_data.info()"
      ],
      "metadata": {
        "colab": {
          "base_uri": "https://localhost:8080/"
        },
        "id": "axvJR2qOnUTD",
        "outputId": "78e8fbfc-1188-43a2-e726-b7cfeead28a9"
      },
      "execution_count": 8,
      "outputs": [
        {
          "output_type": "stream",
          "name": "stdout",
          "text": [
            "<class 'pandas.core.frame.DataFrame'>\n",
            "RangeIndex: 100000 entries, 0 to 99999\n",
            "Data columns (total 28 columns):\n",
            " #   Column                    Non-Null Count   Dtype   \n",
            "---  ------                    --------------   -----   \n",
            " 0   ID                        100000 non-null  object  \n",
            " 1   Customer_ID               100000 non-null  object  \n",
            " 2   Month                     100000 non-null  category\n",
            " 3   Name                      90015 non-null   object  \n",
            " 4   Age                       100000 non-null  object  \n",
            " 5   SSN                       100000 non-null  object  \n",
            " 6   Occupation                100000 non-null  category\n",
            " 7   Annual_Income             100000 non-null  object  \n",
            " 8   Monthly_Inhand_Salary     84998 non-null   float64 \n",
            " 9   Num_Bank_Accounts         100000 non-null  int64   \n",
            " 10  Num_Credit_Card           100000 non-null  int64   \n",
            " 11  Interest_Rate             100000 non-null  int64   \n",
            " 12  Num_of_Loan               100000 non-null  object  \n",
            " 13  Type_of_Loan              88592 non-null   category\n",
            " 14  Delay_from_due_date       100000 non-null  int64   \n",
            " 15  Num_of_Delayed_Payment    92998 non-null   object  \n",
            " 16  Changed_Credit_Limit      100000 non-null  object  \n",
            " 17  Num_Credit_Inquiries      98035 non-null   float64 \n",
            " 18  Credit_Mix                100000 non-null  category\n",
            " 19  Outstanding_Debt          100000 non-null  object  \n",
            " 20  Credit_Utilization_Ratio  100000 non-null  float64 \n",
            " 21  Credit_History_Age        90970 non-null   object  \n",
            " 22  Payment_of_Min_Amount     100000 non-null  category\n",
            " 23  Total_EMI_per_month       100000 non-null  float64 \n",
            " 24  Amount_invested_monthly   95521 non-null   object  \n",
            " 25  Payment_Behaviour         100000 non-null  category\n",
            " 26  Monthly_Balance           98800 non-null   object  \n",
            " 27  Credit_Score              100000 non-null  category\n",
            "dtypes: category(7), float64(4), int64(4), object(13)\n",
            "memory usage: 17.0+ MB\n"
          ]
        }
      ]
    },
    {
      "cell_type": "code",
      "source": [
        "train_data.isna().sum()"
      ],
      "metadata": {
        "colab": {
          "base_uri": "https://localhost:8080/"
        },
        "id": "HL9UKS4n93Sr",
        "outputId": "2fa24d3c-e743-48a4-cad8-02c028eef3e2"
      },
      "execution_count": 9,
      "outputs": [
        {
          "output_type": "execute_result",
          "data": {
            "text/plain": [
              "ID                              0\n",
              "Customer_ID                     0\n",
              "Month                           0\n",
              "Name                         9985\n",
              "Age                             0\n",
              "SSN                             0\n",
              "Occupation                      0\n",
              "Annual_Income                   0\n",
              "Monthly_Inhand_Salary       15002\n",
              "Num_Bank_Accounts               0\n",
              "Num_Credit_Card                 0\n",
              "Interest_Rate                   0\n",
              "Num_of_Loan                     0\n",
              "Type_of_Loan                11408\n",
              "Delay_from_due_date             0\n",
              "Num_of_Delayed_Payment       7002\n",
              "Changed_Credit_Limit            0\n",
              "Num_Credit_Inquiries         1965\n",
              "Credit_Mix                      0\n",
              "Outstanding_Debt                0\n",
              "Credit_Utilization_Ratio        0\n",
              "Credit_History_Age           9030\n",
              "Payment_of_Min_Amount           0\n",
              "Total_EMI_per_month             0\n",
              "Amount_invested_monthly      4479\n",
              "Payment_Behaviour               0\n",
              "Monthly_Balance              1200\n",
              "Credit_Score                    0\n",
              "dtype: int64"
            ]
          },
          "metadata": {},
          "execution_count": 9
        }
      ]
    },
    {
      "cell_type": "code",
      "source": [
        "train_data.duplicated().sum()"
      ],
      "metadata": {
        "colab": {
          "base_uri": "https://localhost:8080/"
        },
        "id": "kg82kyI9-Cvs",
        "outputId": "c1e8db90-ac1d-4b0f-eaf1-7638a06a9426"
      },
      "execution_count": 10,
      "outputs": [
        {
          "output_type": "execute_result",
          "data": {
            "text/plain": [
              "0"
            ]
          },
          "metadata": {},
          "execution_count": 10
        }
      ]
    },
    {
      "cell_type": "code",
      "source": [
        "#dropping redundant columns\n",
        "\n",
        "train_data = train_data.drop(['ID', 'Name', 'SSN', 'Type_of_Loan'], axis=1)"
      ],
      "metadata": {
        "id": "Huxm3a3V-H0X"
      },
      "execution_count": 11,
      "outputs": []
    },
    {
      "cell_type": "code",
      "source": [
        "cat_list = list(train_data.select_dtypes('category').columns)\n",
        "for c in cat_list:\n",
        "  print(c)\n",
        "  print(train_data[c].value_counts())"
      ],
      "metadata": {
        "colab": {
          "base_uri": "https://localhost:8080/"
        },
        "id": "SQClhCAt-LdF",
        "outputId": "d8bd4398-a0fd-427c-ed07-a247a5697fb7"
      },
      "execution_count": 12,
      "outputs": [
        {
          "output_type": "stream",
          "name": "stdout",
          "text": [
            "Month\n",
            "April       12500\n",
            "August      12500\n",
            "February    12500\n",
            "January     12500\n",
            "July        12500\n",
            "June        12500\n",
            "March       12500\n",
            "May         12500\n",
            "Name: Month, dtype: int64\n",
            "Occupation\n",
            "_______          7062\n",
            "Lawyer           6575\n",
            "Architect        6355\n",
            "Engineer         6350\n",
            "Scientist        6299\n",
            "Mechanic         6291\n",
            "Accountant       6271\n",
            "Developer        6235\n",
            "Media_Manager    6232\n",
            "Teacher          6215\n",
            "Entrepreneur     6174\n",
            "Doctor           6087\n",
            "Journalist       6085\n",
            "Manager          5973\n",
            "Musician         5911\n",
            "Writer           5885\n",
            "Name: Occupation, dtype: int64\n",
            "Credit_Mix\n",
            "Standard    36479\n",
            "Good        24337\n",
            "_           20195\n",
            "Bad         18989\n",
            "Name: Credit_Mix, dtype: int64\n",
            "Payment_of_Min_Amount\n",
            "Yes    52326\n",
            "No     35667\n",
            "NM     12007\n",
            "Name: Payment_of_Min_Amount, dtype: int64\n",
            "Payment_Behaviour\n",
            "Low_spent_Small_value_payments      25513\n",
            "High_spent_Medium_value_payments    17540\n",
            "Low_spent_Medium_value_payments     13861\n",
            "High_spent_Large_value_payments     13721\n",
            "High_spent_Small_value_payments     11340\n",
            "Low_spent_Large_value_payments      10425\n",
            "!@9#%8                               7600\n",
            "Name: Payment_Behaviour, dtype: int64\n",
            "Credit_Score\n",
            "Standard    53174\n",
            "Poor        28998\n",
            "Good        17828\n",
            "Name: Credit_Score, dtype: int64\n"
          ]
        }
      ]
    },
    {
      "cell_type": "code",
      "source": [
        "#replacing _ with NaN in Credit_Mix\n",
        "#replacing !@9#%8 with NaN in Payment_Behaviour\n",
        "\n",
        "train_data['Payment_Behaviour'] = train_data['Payment_Behaviour'].apply(lambda x: np.NaN if x == \"!@9#%8\" else x)\n",
        "train_data['Credit_Mix'] = train_data['Credit_Mix'].apply(lambda x: np.NaN if x == \"_\" else x)"
      ],
      "metadata": {
        "id": "ib975uV5-g9l"
      },
      "execution_count": 13,
      "outputs": []
    },
    {
      "cell_type": "code",
      "source": [
        "#handle numerical variables\n",
        "\n",
        "cols=['Age','Annual_Income','Num_of_Loan','Num_of_Delayed_Payment','Changed_Credit_Limit', 'Outstanding_Debt']\n",
        "for col in cols:\n",
        "  train_data[col] = train_data[col].apply(lambda x: x if x is np.nan or not isinstance(x, str)\n",
        "                      else x.replace(\"_\",\"\")).replace(\"\",np.nan)\n",
        "  train_data[col] = train_data[col].astype('float')"
      ],
      "metadata": {
        "id": "cL5Fhr_k_G7A"
      },
      "execution_count": 14,
      "outputs": []
    },
    {
      "cell_type": "code",
      "source": [
        "#impute(with mode of data) and clean\n",
        "\n",
        "train_data['Monthly_Inhand_Salary'] = train_data.groupby('Customer_ID')['Monthly_Inhand_Salary'].transform(lambda v: v.mean())\n",
        "train_data['Monthly_Inhand_Salary'] = train_data['Monthly_Inhand_Salary'].astype('float')"
      ],
      "metadata": {
        "id": "XAClO0kI_ZFW"
      },
      "execution_count": 15,
      "outputs": []
    },
    {
      "cell_type": "code",
      "source": [
        "train_data['Num_of_Delayed_Payment'] = train_data.groupby('Customer_ID')['Num_of_Delayed_Payment'].transform(lambda v: v.ffill())\n",
        "train_data['Num_of_Delayed_Payment'] = train_data.groupby('Customer_ID')['Num_of_Delayed_Payment'].transform(lambda v: v.bfill())"
      ],
      "metadata": {
        "id": "UkSwwPQ6_kQx"
      },
      "execution_count": 16,
      "outputs": []
    },
    {
      "cell_type": "code",
      "source": [
        "def return_null(val):\n",
        "  if isinstance(val, str) and \"__\" in val:\n",
        "    return np.NaN\n",
        "  else:\n",
        "    return val"
      ],
      "metadata": {
        "id": "TtM37koj_lPJ"
      },
      "execution_count": 17,
      "outputs": []
    },
    {
      "cell_type": "code",
      "source": [
        "train_data['Amount_invested_monthly'] = train_data['Amount_invested_monthly'].apply(return_null)"
      ],
      "metadata": {
        "id": "07XSIcwP_n_M"
      },
      "execution_count": 18,
      "outputs": []
    },
    {
      "cell_type": "code",
      "source": [
        "train_data['Amount_invested_monthly'] = train_data['Amount_invested_monthly'].astype('float')\n",
        "train_data['Amount_invested_monthly'] = train_data.groupby('Customer_ID')['Amount_invested_monthly'].transform(lambda v: v.mean())"
      ],
      "metadata": {
        "id": "goKsPCZv_p8D"
      },
      "execution_count": 19,
      "outputs": []
    },
    {
      "cell_type": "code",
      "source": [
        "train_data['Num_Credit_Inquiries'].quantile([0.10, 0.85, 0.98, 0.985, 0.99])"
      ],
      "metadata": {
        "colab": {
          "base_uri": "https://localhost:8080/"
        },
        "id": "OJa0xDWt_rdu",
        "outputId": "7773abff-39fc-440b-b0fd-e88d3c1079dc"
      },
      "execution_count": 20,
      "outputs": [
        {
          "output_type": "execute_result",
          "data": {
            "text/plain": [
              "0.100       1.00\n",
              "0.850      11.00\n",
              "0.980      16.00\n",
              "0.985     298.49\n",
              "0.990    1109.28\n",
              "Name: Num_Credit_Inquiries, dtype: float64"
            ]
          },
          "metadata": {},
          "execution_count": 20
        }
      ]
    },
    {
      "cell_type": "code",
      "source": [
        "train_data['Num_Credit_Inquiries'] = train_data.groupby('Customer_ID')['Num_Credit_Inquiries'].transform(lambda v: v.median())\n",
        "train_data['Num_Credit_Inquiries'] = train_data['Num_Credit_Inquiries'].astype('float')"
      ],
      "metadata": {
        "id": "snq7z06r_tJb"
      },
      "execution_count": 21,
      "outputs": []
    },
    {
      "cell_type": "code",
      "source": [
        "train_data['Monthly_Balance'] = train_data['Monthly_Balance'].apply(return_null)\n",
        "train_data['Monthly_Balance'] = train_data['Monthly_Balance'].astype('float')"
      ],
      "metadata": {
        "id": "2UqjNxi5_uuU"
      },
      "execution_count": 22,
      "outputs": []
    },
    {
      "cell_type": "code",
      "source": [
        "train_data['Monthly_Balance'] = train_data.groupby('Customer_ID')['Monthly_Balance'].transform(lambda v: v.mean())"
      ],
      "metadata": {
        "id": "hDxsO75Z_wj_"
      },
      "execution_count": 23,
      "outputs": []
    },
    {
      "cell_type": "code",
      "source": [
        "train_data['Payment_Behaviour'] = train_data.groupby('Customer_ID')['Payment_Behaviour'].apply(lambda x: x.fillna(x.mode()[0]))\n",
        "train_data['Credit_Mix'] = train_data.groupby('Customer_ID')['Credit_Mix'].apply(lambda x: x.fillna(x.mode()[0]))"
      ],
      "metadata": {
        "colab": {
          "base_uri": "https://localhost:8080/"
        },
        "id": "FZSN6MBM_0jt",
        "outputId": "ff2c2669-e7bd-4be6-b3fd-ffd8f2cee48c"
      },
      "execution_count": 24,
      "outputs": [
        {
          "output_type": "stream",
          "name": "stderr",
          "text": [
            "<ipython-input-24-137bce6fba80>:1: FutureWarning: Not prepending group keys to the result index of transform-like apply. In the future, the group keys will be included in the index, regardless of whether the applied function returns a like-indexed object.\n",
            "To preserve the previous behavior, use\n",
            "\n",
            "\t>>> .groupby(..., group_keys=False)\n",
            "\n",
            "To adopt the future behavior and silence this warning, use \n",
            "\n",
            "\t>>> .groupby(..., group_keys=True)\n",
            "  train_data['Payment_Behaviour'] = train_data.groupby('Customer_ID')['Payment_Behaviour'].apply(lambda x: x.fillna(x.mode()[0]))\n",
            "<ipython-input-24-137bce6fba80>:2: FutureWarning: Not prepending group keys to the result index of transform-like apply. In the future, the group keys will be included in the index, regardless of whether the applied function returns a like-indexed object.\n",
            "To preserve the previous behavior, use\n",
            "\n",
            "\t>>> .groupby(..., group_keys=False)\n",
            "\n",
            "To adopt the future behavior and silence this warning, use \n",
            "\n",
            "\t>>> .groupby(..., group_keys=True)\n",
            "  train_data['Credit_Mix'] = train_data.groupby('Customer_ID')['Credit_Mix'].apply(lambda x: x.fillna(x.mode()[0]))\n"
          ]
        }
      ]
    },
    {
      "cell_type": "code",
      "source": [
        "train_data['Changed_Credit_Limit'] = train_data.groupby('Customer_ID')['Changed_Credit_Limit'].transform(lambda v: v.mode()[0])"
      ],
      "metadata": {
        "id": "pXE6xEpi_1a8"
      },
      "execution_count": 25,
      "outputs": []
    },
    {
      "cell_type": "code",
      "source": [
        "import re\n",
        "def cal_history_age(val):\n",
        "  try:\n",
        "    year, month = 0, 0\n",
        "    if re.search('year', val, re.IGNORECASE):\n",
        "      year = int(re.findall('\\d+', val)[0])\n",
        "    if re.search('month', val, re.IGNORECASE):\n",
        "      month = int(re.findall('\\d+', val)[1])\n",
        "    return year*12+month\n",
        "  except:\n",
        "    return np.NaN"
      ],
      "metadata": {
        "id": "9jMLQ4UFAZCq"
      },
      "execution_count": 26,
      "outputs": []
    },
    {
      "cell_type": "code",
      "source": [
        "train_data['Credit_History_Age'] = train_data['Credit_History_Age'].apply(cal_history_age)"
      ],
      "metadata": {
        "id": "EY7itPd9BeP9"
      },
      "execution_count": 27,
      "outputs": []
    },
    {
      "cell_type": "code",
      "source": [
        "train_data['Credit_History_Age'] = train_data.groupby('Customer_ID')['Credit_History_Age'].transform(lambda v: v.ffill())\n",
        "train_data['Credit_History_Age'] = train_data.groupby('Customer_ID')['Credit_History_Age'].transform(lambda v: v.bfill())\n",
        "train_data['Credit_History_Age'] = train_data['Credit_History_Age'].astype('float')"
      ],
      "metadata": {
        "id": "Bc4VMjhQBh9q"
      },
      "execution_count": 28,
      "outputs": []
    },
    {
      "cell_type": "code",
      "source": [
        "#handling negative values in age columns as well as values greater than 100\n",
        "\n",
        "def clean_age(x):\n",
        "  if x > 100 or x <=0:\n",
        "    return np.NaN\n",
        "  return x"
      ],
      "metadata": {
        "id": "jA8ArYxbBv0P"
      },
      "execution_count": 29,
      "outputs": []
    },
    {
      "cell_type": "code",
      "source": [
        "train_data['Age'] = train_data['Age'].apply(lambda x: x if x is np.nan or not isinstance(x, str)\n",
        "                    else x.replace(\"_\",\"\")).replace(\"\",np.nan)\n",
        "train_data['Age'] = train_data['Age'].astype('float')"
      ],
      "metadata": {
        "id": "1VaSchgVB39s"
      },
      "execution_count": 30,
      "outputs": []
    },
    {
      "cell_type": "code",
      "source": [
        "train_data['Age'] = train_data['Age'].apply(clean_age)\n",
        "train_data['Age'] = train_data.groupby('Customer_ID')['Age'].transform(lambda v: v.mode()[0])"
      ],
      "metadata": {
        "id": "miy4-79XB6t3"
      },
      "execution_count": 31,
      "outputs": []
    },
    {
      "cell_type": "code",
      "source": [
        "train_data.isna().sum()"
      ],
      "metadata": {
        "colab": {
          "base_uri": "https://localhost:8080/"
        },
        "id": "q2S1dipzCAxA",
        "outputId": "8e0cb1c4-7972-4819-a697-115b6300cdbc"
      },
      "execution_count": 32,
      "outputs": [
        {
          "output_type": "execute_result",
          "data": {
            "text/plain": [
              "Customer_ID                 0\n",
              "Month                       0\n",
              "Age                         0\n",
              "Occupation                  0\n",
              "Annual_Income               0\n",
              "Monthly_Inhand_Salary       0\n",
              "Num_Bank_Accounts           0\n",
              "Num_Credit_Card             0\n",
              "Interest_Rate               0\n",
              "Num_of_Loan                 0\n",
              "Delay_from_due_date         0\n",
              "Num_of_Delayed_Payment      0\n",
              "Changed_Credit_Limit        0\n",
              "Num_Credit_Inquiries        0\n",
              "Credit_Mix                  0\n",
              "Outstanding_Debt            0\n",
              "Credit_Utilization_Ratio    0\n",
              "Credit_History_Age          0\n",
              "Payment_of_Min_Amount       0\n",
              "Total_EMI_per_month         0\n",
              "Amount_invested_monthly     0\n",
              "Payment_Behaviour           0\n",
              "Monthly_Balance             0\n",
              "Credit_Score                0\n",
              "dtype: int64"
            ]
          },
          "metadata": {},
          "execution_count": 32
        }
      ]
    },
    {
      "cell_type": "code",
      "source": [
        "cat_cols = ['Credit_Mix', 'Payment_Behaviour']\n",
        "train_data[cat_cols] = train_data[cat_cols].astype('category')"
      ],
      "metadata": {
        "id": "uv6QgnW7CDbR"
      },
      "execution_count": 33,
      "outputs": []
    },
    {
      "cell_type": "code",
      "source": [
        "train_data.shape"
      ],
      "metadata": {
        "colab": {
          "base_uri": "https://localhost:8080/"
        },
        "id": "TuMFPffpCJ_u",
        "outputId": "821fd8d4-773a-462e-8548-5206a9e7533e"
      },
      "execution_count": 34,
      "outputs": [
        {
          "output_type": "execute_result",
          "data": {
            "text/plain": [
              "(100000, 24)"
            ]
          },
          "metadata": {},
          "execution_count": 34
        }
      ]
    },
    {
      "cell_type": "code",
      "source": [
        "train_data.describe()"
      ],
      "metadata": {
        "colab": {
          "base_uri": "https://localhost:8080/",
          "height": 364
        },
        "id": "PFUjGn3dCKz0",
        "outputId": "30978e2b-1e9e-4a7d-c422-c195618843f4"
      },
      "execution_count": 36,
      "outputs": [
        {
          "output_type": "execute_result",
          "data": {
            "text/plain": [
              "                 Age  Annual_Income  Monthly_Inhand_Salary  Num_Bank_Accounts  \\\n",
              "count  100000.000000   1.000000e+05          100000.000000      100000.000000   \n",
              "mean       33.274560   1.764157e+05            4198.468568          17.091280   \n",
              "std        10.764438   1.429618e+06            3187.031426         117.404834   \n",
              "min        14.000000   7.005930e+03             303.645417          -1.000000   \n",
              "25%        24.000000   1.945750e+04            1625.744479           3.000000   \n",
              "50%        33.000000   3.757861e+04            3097.016667           6.000000   \n",
              "75%        42.000000   7.279092e+04            5961.664375           7.000000   \n",
              "max        56.000000   2.419806e+07           15204.633333        1798.000000   \n",
              "\n",
              "       Num_Credit_Card  Interest_Rate    Num_of_Loan  Delay_from_due_date  \\\n",
              "count     100000.00000  100000.000000  100000.000000        100000.000000   \n",
              "mean          22.47443      72.466040       3.009960            21.068780   \n",
              "std          129.05741     466.422621      62.647879            14.860104   \n",
              "min            0.00000       1.000000    -100.000000            -5.000000   \n",
              "25%            4.00000       8.000000       1.000000            10.000000   \n",
              "50%            5.00000      13.000000       3.000000            18.000000   \n",
              "75%            7.00000      20.000000       5.000000            28.000000   \n",
              "max         1499.00000    5797.000000    1496.000000            67.000000   \n",
              "\n",
              "       Num_of_Delayed_Payment  Changed_Credit_Limit  Num_Credit_Inquiries  \\\n",
              "count           100000.000000         100000.000000         100000.000000   \n",
              "mean                30.690700             10.393543              5.794600   \n",
              "std                224.881705              6.512529              3.831618   \n",
              "min                 -3.000000             -5.010000              0.000000   \n",
              "25%                  9.000000              5.500000              3.000000   \n",
              "50%                 14.000000              9.340000              5.000000   \n",
              "75%                 18.000000             14.672500              8.500000   \n",
              "max               4397.000000             29.980000             17.000000   \n",
              "\n",
              "       Outstanding_Debt  Credit_Utilization_Ratio  Credit_History_Age  \\\n",
              "count     100000.000000             100000.000000       100000.000000   \n",
              "mean        1426.220376                 32.285173          221.136220   \n",
              "std         1155.129026                  5.116875           99.680454   \n",
              "min            0.230000                 20.000000            1.000000   \n",
              "25%          566.072500                 28.052567          144.000000   \n",
              "50%         1166.155000                 32.305784          219.000000   \n",
              "75%         1945.962500                 36.496663          302.000000   \n",
              "max         4998.070000                 50.000000          404.000000   \n",
              "\n",
              "       Total_EMI_per_month  Amount_invested_monthly  Monthly_Balance  \n",
              "count        100000.000000            100000.000000    100000.000000  \n",
              "mean           1403.118217               195.751837       403.120320  \n",
              "std            8306.041270               136.842331       175.470745  \n",
              "min               0.000000                14.528879        92.841401  \n",
              "25%              30.306660                97.690749       284.546710  \n",
              "50%              69.249473               152.081485       338.491580  \n",
              "75%             161.224249               257.566585       465.372970  \n",
              "max           82331.000000              1005.847285      1349.264887  "
            ],
            "text/html": [
              "\n",
              "  <div id=\"df-566d33ac-84f1-4099-8735-95f2fd90b711\">\n",
              "    <div class=\"colab-df-container\">\n",
              "      <div>\n",
              "<style scoped>\n",
              "    .dataframe tbody tr th:only-of-type {\n",
              "        vertical-align: middle;\n",
              "    }\n",
              "\n",
              "    .dataframe tbody tr th {\n",
              "        vertical-align: top;\n",
              "    }\n",
              "\n",
              "    .dataframe thead th {\n",
              "        text-align: right;\n",
              "    }\n",
              "</style>\n",
              "<table border=\"1\" class=\"dataframe\">\n",
              "  <thead>\n",
              "    <tr style=\"text-align: right;\">\n",
              "      <th></th>\n",
              "      <th>Age</th>\n",
              "      <th>Annual_Income</th>\n",
              "      <th>Monthly_Inhand_Salary</th>\n",
              "      <th>Num_Bank_Accounts</th>\n",
              "      <th>Num_Credit_Card</th>\n",
              "      <th>Interest_Rate</th>\n",
              "      <th>Num_of_Loan</th>\n",
              "      <th>Delay_from_due_date</th>\n",
              "      <th>Num_of_Delayed_Payment</th>\n",
              "      <th>Changed_Credit_Limit</th>\n",
              "      <th>Num_Credit_Inquiries</th>\n",
              "      <th>Outstanding_Debt</th>\n",
              "      <th>Credit_Utilization_Ratio</th>\n",
              "      <th>Credit_History_Age</th>\n",
              "      <th>Total_EMI_per_month</th>\n",
              "      <th>Amount_invested_monthly</th>\n",
              "      <th>Monthly_Balance</th>\n",
              "    </tr>\n",
              "  </thead>\n",
              "  <tbody>\n",
              "    <tr>\n",
              "      <th>count</th>\n",
              "      <td>100000.000000</td>\n",
              "      <td>1.000000e+05</td>\n",
              "      <td>100000.000000</td>\n",
              "      <td>100000.000000</td>\n",
              "      <td>100000.00000</td>\n",
              "      <td>100000.000000</td>\n",
              "      <td>100000.000000</td>\n",
              "      <td>100000.000000</td>\n",
              "      <td>100000.000000</td>\n",
              "      <td>100000.000000</td>\n",
              "      <td>100000.000000</td>\n",
              "      <td>100000.000000</td>\n",
              "      <td>100000.000000</td>\n",
              "      <td>100000.000000</td>\n",
              "      <td>100000.000000</td>\n",
              "      <td>100000.000000</td>\n",
              "      <td>100000.000000</td>\n",
              "    </tr>\n",
              "    <tr>\n",
              "      <th>mean</th>\n",
              "      <td>33.274560</td>\n",
              "      <td>1.764157e+05</td>\n",
              "      <td>4198.468568</td>\n",
              "      <td>17.091280</td>\n",
              "      <td>22.47443</td>\n",
              "      <td>72.466040</td>\n",
              "      <td>3.009960</td>\n",
              "      <td>21.068780</td>\n",
              "      <td>30.690700</td>\n",
              "      <td>10.393543</td>\n",
              "      <td>5.794600</td>\n",
              "      <td>1426.220376</td>\n",
              "      <td>32.285173</td>\n",
              "      <td>221.136220</td>\n",
              "      <td>1403.118217</td>\n",
              "      <td>195.751837</td>\n",
              "      <td>403.120320</td>\n",
              "    </tr>\n",
              "    <tr>\n",
              "      <th>std</th>\n",
              "      <td>10.764438</td>\n",
              "      <td>1.429618e+06</td>\n",
              "      <td>3187.031426</td>\n",
              "      <td>117.404834</td>\n",
              "      <td>129.05741</td>\n",
              "      <td>466.422621</td>\n",
              "      <td>62.647879</td>\n",
              "      <td>14.860104</td>\n",
              "      <td>224.881705</td>\n",
              "      <td>6.512529</td>\n",
              "      <td>3.831618</td>\n",
              "      <td>1155.129026</td>\n",
              "      <td>5.116875</td>\n",
              "      <td>99.680454</td>\n",
              "      <td>8306.041270</td>\n",
              "      <td>136.842331</td>\n",
              "      <td>175.470745</td>\n",
              "    </tr>\n",
              "    <tr>\n",
              "      <th>min</th>\n",
              "      <td>14.000000</td>\n",
              "      <td>7.005930e+03</td>\n",
              "      <td>303.645417</td>\n",
              "      <td>-1.000000</td>\n",
              "      <td>0.00000</td>\n",
              "      <td>1.000000</td>\n",
              "      <td>-100.000000</td>\n",
              "      <td>-5.000000</td>\n",
              "      <td>-3.000000</td>\n",
              "      <td>-5.010000</td>\n",
              "      <td>0.000000</td>\n",
              "      <td>0.230000</td>\n",
              "      <td>20.000000</td>\n",
              "      <td>1.000000</td>\n",
              "      <td>0.000000</td>\n",
              "      <td>14.528879</td>\n",
              "      <td>92.841401</td>\n",
              "    </tr>\n",
              "    <tr>\n",
              "      <th>25%</th>\n",
              "      <td>24.000000</td>\n",
              "      <td>1.945750e+04</td>\n",
              "      <td>1625.744479</td>\n",
              "      <td>3.000000</td>\n",
              "      <td>4.00000</td>\n",
              "      <td>8.000000</td>\n",
              "      <td>1.000000</td>\n",
              "      <td>10.000000</td>\n",
              "      <td>9.000000</td>\n",
              "      <td>5.500000</td>\n",
              "      <td>3.000000</td>\n",
              "      <td>566.072500</td>\n",
              "      <td>28.052567</td>\n",
              "      <td>144.000000</td>\n",
              "      <td>30.306660</td>\n",
              "      <td>97.690749</td>\n",
              "      <td>284.546710</td>\n",
              "    </tr>\n",
              "    <tr>\n",
              "      <th>50%</th>\n",
              "      <td>33.000000</td>\n",
              "      <td>3.757861e+04</td>\n",
              "      <td>3097.016667</td>\n",
              "      <td>6.000000</td>\n",
              "      <td>5.00000</td>\n",
              "      <td>13.000000</td>\n",
              "      <td>3.000000</td>\n",
              "      <td>18.000000</td>\n",
              "      <td>14.000000</td>\n",
              "      <td>9.340000</td>\n",
              "      <td>5.000000</td>\n",
              "      <td>1166.155000</td>\n",
              "      <td>32.305784</td>\n",
              "      <td>219.000000</td>\n",
              "      <td>69.249473</td>\n",
              "      <td>152.081485</td>\n",
              "      <td>338.491580</td>\n",
              "    </tr>\n",
              "    <tr>\n",
              "      <th>75%</th>\n",
              "      <td>42.000000</td>\n",
              "      <td>7.279092e+04</td>\n",
              "      <td>5961.664375</td>\n",
              "      <td>7.000000</td>\n",
              "      <td>7.00000</td>\n",
              "      <td>20.000000</td>\n",
              "      <td>5.000000</td>\n",
              "      <td>28.000000</td>\n",
              "      <td>18.000000</td>\n",
              "      <td>14.672500</td>\n",
              "      <td>8.500000</td>\n",
              "      <td>1945.962500</td>\n",
              "      <td>36.496663</td>\n",
              "      <td>302.000000</td>\n",
              "      <td>161.224249</td>\n",
              "      <td>257.566585</td>\n",
              "      <td>465.372970</td>\n",
              "    </tr>\n",
              "    <tr>\n",
              "      <th>max</th>\n",
              "      <td>56.000000</td>\n",
              "      <td>2.419806e+07</td>\n",
              "      <td>15204.633333</td>\n",
              "      <td>1798.000000</td>\n",
              "      <td>1499.00000</td>\n",
              "      <td>5797.000000</td>\n",
              "      <td>1496.000000</td>\n",
              "      <td>67.000000</td>\n",
              "      <td>4397.000000</td>\n",
              "      <td>29.980000</td>\n",
              "      <td>17.000000</td>\n",
              "      <td>4998.070000</td>\n",
              "      <td>50.000000</td>\n",
              "      <td>404.000000</td>\n",
              "      <td>82331.000000</td>\n",
              "      <td>1005.847285</td>\n",
              "      <td>1349.264887</td>\n",
              "    </tr>\n",
              "  </tbody>\n",
              "</table>\n",
              "</div>\n",
              "      <button class=\"colab-df-convert\" onclick=\"convertToInteractive('df-566d33ac-84f1-4099-8735-95f2fd90b711')\"\n",
              "              title=\"Convert this dataframe to an interactive table.\"\n",
              "              style=\"display:none;\">\n",
              "        \n",
              "  <svg xmlns=\"http://www.w3.org/2000/svg\" height=\"24px\"viewBox=\"0 0 24 24\"\n",
              "       width=\"24px\">\n",
              "    <path d=\"M0 0h24v24H0V0z\" fill=\"none\"/>\n",
              "    <path d=\"M18.56 5.44l.94 2.06.94-2.06 2.06-.94-2.06-.94-.94-2.06-.94 2.06-2.06.94zm-11 1L8.5 8.5l.94-2.06 2.06-.94-2.06-.94L8.5 2.5l-.94 2.06-2.06.94zm10 10l.94 2.06.94-2.06 2.06-.94-2.06-.94-.94-2.06-.94 2.06-2.06.94z\"/><path d=\"M17.41 7.96l-1.37-1.37c-.4-.4-.92-.59-1.43-.59-.52 0-1.04.2-1.43.59L10.3 9.45l-7.72 7.72c-.78.78-.78 2.05 0 2.83L4 21.41c.39.39.9.59 1.41.59.51 0 1.02-.2 1.41-.59l7.78-7.78 2.81-2.81c.8-.78.8-2.07 0-2.86zM5.41 20L4 18.59l7.72-7.72 1.47 1.35L5.41 20z\"/>\n",
              "  </svg>\n",
              "      </button>\n",
              "      \n",
              "  <style>\n",
              "    .colab-df-container {\n",
              "      display:flex;\n",
              "      flex-wrap:wrap;\n",
              "      gap: 12px;\n",
              "    }\n",
              "\n",
              "    .colab-df-convert {\n",
              "      background-color: #E8F0FE;\n",
              "      border: none;\n",
              "      border-radius: 50%;\n",
              "      cursor: pointer;\n",
              "      display: none;\n",
              "      fill: #1967D2;\n",
              "      height: 32px;\n",
              "      padding: 0 0 0 0;\n",
              "      width: 32px;\n",
              "    }\n",
              "\n",
              "    .colab-df-convert:hover {\n",
              "      background-color: #E2EBFA;\n",
              "      box-shadow: 0px 1px 2px rgba(60, 64, 67, 0.3), 0px 1px 3px 1px rgba(60, 64, 67, 0.15);\n",
              "      fill: #174EA6;\n",
              "    }\n",
              "\n",
              "    [theme=dark] .colab-df-convert {\n",
              "      background-color: #3B4455;\n",
              "      fill: #D2E3FC;\n",
              "    }\n",
              "\n",
              "    [theme=dark] .colab-df-convert:hover {\n",
              "      background-color: #434B5C;\n",
              "      box-shadow: 0px 1px 3px 1px rgba(0, 0, 0, 0.15);\n",
              "      filter: drop-shadow(0px 1px 2px rgba(0, 0, 0, 0.3));\n",
              "      fill: #FFFFFF;\n",
              "    }\n",
              "  </style>\n",
              "\n",
              "      <script>\n",
              "        const buttonEl =\n",
              "          document.querySelector('#df-566d33ac-84f1-4099-8735-95f2fd90b711 button.colab-df-convert');\n",
              "        buttonEl.style.display =\n",
              "          google.colab.kernel.accessAllowed ? 'block' : 'none';\n",
              "\n",
              "        async function convertToInteractive(key) {\n",
              "          const element = document.querySelector('#df-566d33ac-84f1-4099-8735-95f2fd90b711');\n",
              "          const dataTable =\n",
              "            await google.colab.kernel.invokeFunction('convertToInteractive',\n",
              "                                                     [key], {});\n",
              "          if (!dataTable) return;\n",
              "\n",
              "          const docLinkHtml = 'Like what you see? Visit the ' +\n",
              "            '<a target=\"_blank\" href=https://colab.research.google.com/notebooks/data_table.ipynb>data table notebook</a>'\n",
              "            + ' to learn more about interactive tables.';\n",
              "          element.innerHTML = '';\n",
              "          dataTable['output_type'] = 'display_data';\n",
              "          await google.colab.output.renderOutput(dataTable, element);\n",
              "          const docLink = document.createElement('div');\n",
              "          docLink.innerHTML = docLinkHtml;\n",
              "          element.appendChild(docLink);\n",
              "        }\n",
              "      </script>\n",
              "    </div>\n",
              "  </div>\n",
              "  "
            ]
          },
          "metadata": {},
          "execution_count": 36
        }
      ]
    },
    {
      "cell_type": "code",
      "source": [
        "train_data['Num_Bank_Accounts'].describe()"
      ],
      "metadata": {
        "colab": {
          "base_uri": "https://localhost:8080/"
        },
        "id": "oKyBOq1skT7J",
        "outputId": "1ec26212-3676-4d63-a299-c4c2dd22decf"
      },
      "execution_count": 37,
      "outputs": [
        {
          "output_type": "execute_result",
          "data": {
            "text/plain": [
              "count    100000.000000\n",
              "mean         17.091280\n",
              "std         117.404834\n",
              "min          -1.000000\n",
              "25%           3.000000\n",
              "50%           6.000000\n",
              "75%           7.000000\n",
              "max        1798.000000\n",
              "Name: Num_Bank_Accounts, dtype: float64"
            ]
          },
          "metadata": {},
          "execution_count": 37
        }
      ]
    },
    {
      "cell_type": "markdown",
      "source": [
        "Min number of bank accounts is negative which is not possible."
      ],
      "metadata": {
        "id": "sxL4Y4VvpJmu"
      }
    },
    {
      "cell_type": "code",
      "source": [
        "train_data['Num_Bank_Accounts'].replace(-1, 0, inplace=True)"
      ],
      "metadata": {
        "id": "_X35O6a4pGLJ"
      },
      "execution_count": 38,
      "outputs": []
    },
    {
      "cell_type": "code",
      "source": [
        "train_data['Num_Bank_Accounts'].value_counts(ascending=False).head(15)"
      ],
      "metadata": {
        "colab": {
          "base_uri": "https://localhost:8080/"
        },
        "id": "AfE-gwjLpT5G",
        "outputId": "2404a026-b42d-4d3e-cde4-1196bb782a3e"
      },
      "execution_count": 39,
      "outputs": [
        {
          "output_type": "execute_result",
          "data": {
            "text/plain": [
              "6       13001\n",
              "7       12823\n",
              "8       12765\n",
              "4       12186\n",
              "5       12118\n",
              "3       11950\n",
              "9        5443\n",
              "10       5247\n",
              "1        4490\n",
              "0        4349\n",
              "2        4304\n",
              "11          9\n",
              "803         7\n",
              "1668        5\n",
              "105         5\n",
              "Name: Num_Bank_Accounts, dtype: int64"
            ]
          },
          "metadata": {},
          "execution_count": 39
        }
      ]
    },
    {
      "cell_type": "markdown",
      "source": [
        "There are account number values more than 800 which are not possible. Replace those with the mode of the columns"
      ],
      "metadata": {
        "id": "174y40C4pfEJ"
      }
    },
    {
      "cell_type": "code",
      "source": [
        "train_data['Num_Bank_Accounts'] = train_data['Num_Bank_Accounts'].apply(lambda x: np.NaN if x>10 else x)\n",
        "train_data['Num_Bank_Accounts'] = train_data.groupby('Customer_ID')['Num_Bank_Accounts'].transform(lambda v: v.mode()[0])"
      ],
      "metadata": {
        "id": "NGjWpIgOpXE1"
      },
      "execution_count": 40,
      "outputs": []
    },
    {
      "cell_type": "code",
      "source": [
        "train_data['Num_Credit_Card'].value_counts(ascending=False).head(15)"
      ],
      "metadata": {
        "colab": {
          "base_uri": "https://localhost:8080/"
        },
        "id": "XEpZruyqpsxt",
        "outputId": "93bab239-919c-4efd-eb5f-1fcf7f6351e7"
      },
      "execution_count": 41,
      "outputs": [
        {
          "output_type": "execute_result",
          "data": {
            "text/plain": [
              "5      18459\n",
              "7      16615\n",
              "6      16559\n",
              "4      14030\n",
              "3      13277\n",
              "8       4956\n",
              "10      4860\n",
              "9       4643\n",
              "2       2149\n",
              "1       2132\n",
              "11        36\n",
              "0         13\n",
              "849        8\n",
              "852        7\n",
              "183        6\n",
              "Name: Num_Credit_Card, dtype: int64"
            ]
          },
          "metadata": {},
          "execution_count": 41
        }
      ]
    },
    {
      "cell_type": "code",
      "source": [
        "train_data['Num_Credit_Card'] = train_data['Num_Credit_Card'].apply(lambda x: np.NaN if x>10 else x)\n",
        "train_data['Num_Credit_Card'] = train_data.groupby('Customer_ID')['Num_Credit_Card'].transform(lambda v: v.mode()[0])"
      ],
      "metadata": {
        "id": "KNDfjWLfpyVI"
      },
      "execution_count": 42,
      "outputs": []
    },
    {
      "cell_type": "code",
      "source": [
        "train_data['Num_Credit_Card'].value_counts(ascending=False).head(15)"
      ],
      "metadata": {
        "colab": {
          "base_uri": "https://localhost:8080/"
        },
        "id": "cEPXtHoJp-hR",
        "outputId": "f022a58b-27af-4523-d80a-9f0b403ab5e9"
      },
      "execution_count": 43,
      "outputs": [
        {
          "output_type": "execute_result",
          "data": {
            "text/plain": [
              "5.0     18904\n",
              "7.0     16984\n",
              "6.0     16960\n",
              "4.0     14336\n",
              "3.0     13576\n",
              "8.0      5096\n",
              "10.0     5000\n",
              "9.0      4736\n",
              "2.0      2208\n",
              "1.0      2184\n",
              "0.0        16\n",
              "Name: Num_Credit_Card, dtype: int64"
            ]
          },
          "metadata": {},
          "execution_count": 43
        }
      ]
    },
    {
      "cell_type": "code",
      "source": [
        "train_data['Interest_Rate'].describe()"
      ],
      "metadata": {
        "colab": {
          "base_uri": "https://localhost:8080/"
        },
        "id": "7mdIBUSDqBrb",
        "outputId": "ad675460-9e57-441e-81a4-ceddb125523d"
      },
      "execution_count": 44,
      "outputs": [
        {
          "output_type": "execute_result",
          "data": {
            "text/plain": [
              "count    100000.000000\n",
              "mean         72.466040\n",
              "std         466.422621\n",
              "min           1.000000\n",
              "25%           8.000000\n",
              "50%          13.000000\n",
              "75%          20.000000\n",
              "max        5797.000000\n",
              "Name: Interest_Rate, dtype: float64"
            ]
          },
          "metadata": {},
          "execution_count": 44
        }
      ]
    },
    {
      "cell_type": "code",
      "source": [
        "train_data['Interest_Rate'] = train_data['Interest_Rate'].apply(lambda x: np.NaN if x>30 else x)\n",
        "train_data['Interest_Rate'].replace(np.NaN, 0, inplace=True)"
      ],
      "metadata": {
        "id": "AZTUYwKzqYa5"
      },
      "execution_count": 45,
      "outputs": []
    },
    {
      "cell_type": "code",
      "source": [
        "#imputing interest with mode of interest not between 5 and 30\n",
        "\n",
        "mode_emi = train_data.groupby(['Customer_ID'])['Interest_Rate'].agg(st.mode).apply(lambda x:x[0][0])\n",
        "train_data.drop(\"Interest_Rate\",axis=1,inplace=True)\n",
        "train_data = pd.merge(left=train_data,right=mode_emi,how=\"left\",left_on=\"Customer_ID\",right_index=True)"
      ],
      "metadata": {
        "colab": {
          "base_uri": "https://localhost:8080/"
        },
        "id": "egkw1TjzqwNX",
        "outputId": "22f7d5b1-eb8a-4e1f-9c81-1cc57989ec73"
      },
      "execution_count": 48,
      "outputs": [
        {
          "output_type": "stream",
          "name": "stderr",
          "text": [
            "/usr/local/lib/python3.10/dist-packages/pandas/core/groupby/groupby.py:1668: FutureWarning: Unlike other reduction functions (e.g. `skew`, `kurtosis`), the default behavior of `mode` typically preserves the axis it acts along. In SciPy 1.11.0, this behavior will change: the default value of `keepdims` will become False, the `axis` over which the statistic is taken will be eliminated, and the value None will no longer be accepted. Set `keepdims` to True or False to avoid this warning.\n",
            "  f = lambda x: func(x, *args, **kwargs)\n"
          ]
        }
      ]
    },
    {
      "cell_type": "code",
      "source": [
        "train_data['Num_of_Loan'].value_counts(ascending=False).head(15)"
      ],
      "metadata": {
        "colab": {
          "base_uri": "https://localhost:8080/"
        },
        "id": "3LJNjn-Eq54Q",
        "outputId": "aa6f5350-dc6a-41d8-88b6-227b284e2c47"
      },
      "execution_count": 49,
      "outputs": [
        {
          "output_type": "execute_result",
          "data": {
            "text/plain": [
              " 3.0       15104\n",
              " 2.0       15032\n",
              " 4.0       14743\n",
              " 0.0       10930\n",
              " 1.0       10606\n",
              " 6.0        7803\n",
              " 7.0        7344\n",
              " 5.0        7197\n",
              "-100.0      3876\n",
              " 9.0        3702\n",
              " 8.0        3191\n",
              " 1150.0        4\n",
              " 1228.0        3\n",
              " 1480.0        3\n",
              " 288.0         3\n",
              "Name: Num_of_Loan, dtype: int64"
            ]
          },
          "metadata": {},
          "execution_count": 49
        }
      ]
    },
    {
      "cell_type": "code",
      "source": [
        "#number of loan cannot be negative, one value says -100\n",
        "\n",
        "train_data['Num_of_Loan'] = train_data['Num_of_Loan'].apply(lambda x: np.NaN if (x>10 or x<0) else x)\n",
        "train_data['Num_of_Loan'] = train_data.groupby('Customer_ID')['Num_of_Loan'].transform(lambda v: v.mode()[0])"
      ],
      "metadata": {
        "id": "cJclnNJuqBqB"
      },
      "execution_count": 50,
      "outputs": []
    },
    {
      "cell_type": "code",
      "source": [
        "train_data['Num_of_Delayed_Payment'].describe()"
      ],
      "metadata": {
        "colab": {
          "base_uri": "https://localhost:8080/"
        },
        "id": "ZLaM2RT_qaLF",
        "outputId": "3fefd5d5-2fa0-4fa7-9069-3fee876bfc77"
      },
      "execution_count": 51,
      "outputs": [
        {
          "output_type": "execute_result",
          "data": {
            "text/plain": [
              "count    100000.000000\n",
              "mean         30.690700\n",
              "std         224.881705\n",
              "min          -3.000000\n",
              "25%           9.000000\n",
              "50%          14.000000\n",
              "75%          18.000000\n",
              "max        4397.000000\n",
              "Name: Num_of_Delayed_Payment, dtype: float64"
            ]
          },
          "metadata": {},
          "execution_count": 51
        }
      ]
    },
    {
      "cell_type": "code",
      "source": [
        "train_data['Num_of_Delayed_Payment'] = train_data['Num_of_Delayed_Payment'].apply(lambda x: np.NaN if (x>30 or x<0) else x)\n",
        "train_data['Num_of_Delayed_Payment'] = train_data.groupby('Customer_ID')['Num_of_Delayed_Payment'].transform(lambda v: v.mode()[0])"
      ],
      "metadata": {
        "id": "MUYDZza1qeqy"
      },
      "execution_count": 52,
      "outputs": []
    },
    {
      "cell_type": "code",
      "source": [
        "train_data['Total_EMI_per_month'].describe()"
      ],
      "metadata": {
        "colab": {
          "base_uri": "https://localhost:8080/"
        },
        "id": "Fb7cJQMzqhVf",
        "outputId": "e4cc77ac-f823-4833-c612-abe498e8fdaa"
      },
      "execution_count": 53,
      "outputs": [
        {
          "output_type": "execute_result",
          "data": {
            "text/plain": [
              "count    100000.000000\n",
              "mean       1403.118217\n",
              "std        8306.041270\n",
              "min           0.000000\n",
              "25%          30.306660\n",
              "50%          69.249473\n",
              "75%         161.224249\n",
              "max       82331.000000\n",
              "Name: Total_EMI_per_month, dtype: float64"
            ]
          },
          "metadata": {},
          "execution_count": 53
        }
      ]
    },
    {
      "cell_type": "code",
      "source": [
        "mode_emi = train_data.groupby(['Customer_ID'])['Total_EMI_per_month'].agg(st.mode).apply(lambda x:x[0][0])\n",
        "\n",
        "train_data.drop(\"Total_EMI_per_month\",axis=1,inplace=True)\n",
        "train_data = pd.merge(left=train_data,right=mode_emi,how=\"left\",left_on=\"Customer_ID\",right_index=True)"
      ],
      "metadata": {
        "colab": {
          "base_uri": "https://localhost:8080/"
        },
        "id": "5-1zNFmIqh3W",
        "outputId": "91652a8c-9690-4bfa-8dfb-fca018be47bb"
      },
      "execution_count": 54,
      "outputs": [
        {
          "output_type": "stream",
          "name": "stderr",
          "text": [
            "/usr/local/lib/python3.10/dist-packages/pandas/core/groupby/groupby.py:1668: FutureWarning: Unlike other reduction functions (e.g. `skew`, `kurtosis`), the default behavior of `mode` typically preserves the axis it acts along. In SciPy 1.11.0, this behavior will change: the default value of `keepdims` will become False, the `axis` over which the statistic is taken will be eliminated, and the value None will no longer be accepted. Set `keepdims` to True or False to avoid this warning.\n",
            "  f = lambda x: func(x, *args, **kwargs)\n"
          ]
        }
      ]
    },
    {
      "cell_type": "code",
      "source": [
        "train_data['Total_EMI_per_month'].describe()"
      ],
      "metadata": {
        "colab": {
          "base_uri": "https://localhost:8080/"
        },
        "id": "FbYkW5TJqkxK",
        "outputId": "b692a974-f364-44cc-a9a2-d4e5d2c64353"
      },
      "execution_count": 55,
      "outputs": [
        {
          "output_type": "execute_result",
          "data": {
            "text/plain": [
              "count    100000.000000\n",
              "mean        105.543371\n",
              "std         125.810030\n",
              "min           0.000000\n",
              "25%          29.049047\n",
              "50%          66.033915\n",
              "75%         145.582332\n",
              "max        1779.103254\n",
              "Name: Total_EMI_per_month, dtype: float64"
            ]
          },
          "metadata": {},
          "execution_count": 55
        }
      ]
    },
    {
      "cell_type": "code",
      "source": [
        "train_data['Delay_from_due_date'].describe()"
      ],
      "metadata": {
        "colab": {
          "base_uri": "https://localhost:8080/"
        },
        "id": "WdmxrVZwqmR3",
        "outputId": "104f3c39-d71d-4ed0-8d01-747b2f73b468"
      },
      "execution_count": 56,
      "outputs": [
        {
          "output_type": "execute_result",
          "data": {
            "text/plain": [
              "count    100000.000000\n",
              "mean         21.068780\n",
              "std          14.860104\n",
              "min          -5.000000\n",
              "25%          10.000000\n",
              "50%          18.000000\n",
              "75%          28.000000\n",
              "max          67.000000\n",
              "Name: Delay_from_due_date, dtype: float64"
            ]
          },
          "metadata": {},
          "execution_count": 56
        }
      ]
    },
    {
      "cell_type": "code",
      "source": [
        "nv = round(train_data.isna().sum()/train_data.shape[0]*100 , 4)\n",
        "nv[nv > 0]"
      ],
      "metadata": {
        "colab": {
          "base_uri": "https://localhost:8080/"
        },
        "id": "BhoOnoOhqoMr",
        "outputId": "944f7c92-4a80-46b0-99fe-1bc14537fc68"
      },
      "execution_count": 58,
      "outputs": [
        {
          "output_type": "execute_result",
          "data": {
            "text/plain": [
              "Series([], dtype: float64)"
            ]
          },
          "metadata": {},
          "execution_count": 58
        }
      ]
    },
    {
      "cell_type": "code",
      "source": [
        "train_data.shape"
      ],
      "metadata": {
        "colab": {
          "base_uri": "https://localhost:8080/"
        },
        "id": "5DysEQUwqpel",
        "outputId": "c979221d-a684-41f1-dd0c-d4bda792cf69"
      },
      "execution_count": 60,
      "outputs": [
        {
          "output_type": "execute_result",
          "data": {
            "text/plain": [
              "(100000, 24)"
            ]
          },
          "metadata": {},
          "execution_count": 60
        }
      ]
    },
    {
      "cell_type": "code",
      "source": [
        "train_data.drop(['Customer_ID', 'Month', 'Occupation'], axis=1, inplace=True)"
      ],
      "metadata": {
        "id": "MRDshraPq3Oy"
      },
      "execution_count": 61,
      "outputs": []
    },
    {
      "cell_type": "code",
      "source": [
        "train_data"
      ],
      "metadata": {
        "id": "TaZNedMmqc1N"
      },
      "execution_count": null,
      "outputs": []
    },
    {
      "cell_type": "code",
      "source": [
        "cat_df = train_data.select_dtypes('category')\n",
        "num_df = train_data.select_dtypes(exclude='category')"
      ],
      "metadata": {
        "id": "5VoPiXS9rQcM"
      },
      "execution_count": 62,
      "outputs": []
    },
    {
      "cell_type": "code",
      "source": [
        "for c in cat_df.columns:\n",
        "  print(c)\n",
        "  print(train_data[c].unique())\n",
        "  print()"
      ],
      "metadata": {
        "colab": {
          "base_uri": "https://localhost:8080/"
        },
        "id": "S-0s8gDBrToj",
        "outputId": "abb18f95-9f50-49d7-b9b1-1a467d21a004"
      },
      "execution_count": 63,
      "outputs": [
        {
          "output_type": "stream",
          "name": "stdout",
          "text": [
            "Credit_Mix\n",
            "['Good', 'Standard', 'Bad']\n",
            "Categories (3, object): ['Bad', 'Good', 'Standard']\n",
            "\n",
            "Payment_of_Min_Amount\n",
            "['No', 'NM', 'Yes']\n",
            "Categories (3, object): ['NM', 'No', 'Yes']\n",
            "\n",
            "Payment_Behaviour\n",
            "['High_spent_Small_value_payments', 'Low_spent_Large_value_payments', 'Low_spent_Medium_value_payments', 'Low_spent_Small_value_payments', 'High_spent_Medium_value_payments', 'High_spent_Large_value_payments']\n",
            "Categories (6, object): ['High_spent_Large_value_payments', 'High_spent_Medium_value_payments',\n",
            "                         'High_spent_Small_value_payments', 'Low_spent_Large_value_payments',\n",
            "                         'Low_spent_Medium_value_payments', 'Low_spent_Small_value_payments']\n",
            "\n",
            "Credit_Score\n",
            "['Good', 'Standard', 'Poor']\n",
            "Categories (3, object): ['Good', 'Poor', 'Standard']\n",
            "\n"
          ]
        }
      ]
    },
    {
      "cell_type": "code",
      "source": [
        "#Encoding\n",
        "\n",
        "train_data['Credit_Mix'] = train_data['Credit_Mix'].map({'Bad': 0, 'Standard': 1, 'Good': 2})\n",
        "train_data['Credit_Score'] = train_data['Credit_Score'].map({'Poor': 0, 'Standard': 1, 'Good': 2})"
      ],
      "metadata": {
        "id": "-SIaFd_0rVNM"
      },
      "execution_count": 64,
      "outputs": []
    },
    {
      "cell_type": "code",
      "source": [
        "dummy_df = pd.get_dummies(train_data[['Payment_Behaviour', 'Payment_of_Min_Amount']], drop_first=True)\n",
        "\n",
        "train_data = pd.concat([train_data, dummy_df], axis=1)\n",
        "train_data = train_data.drop(['Payment_Behaviour', 'Payment_of_Min_Amount'], axis=1)"
      ],
      "metadata": {
        "id": "UD9kle8RrY9L"
      },
      "execution_count": 65,
      "outputs": []
    },
    {
      "cell_type": "code",
      "source": [
        "train_data['Credit_Mix'] = train_data['Credit_Mix'].astype('int')\n",
        "train_data['Credit_Score'] = train_data['Credit_Score'].astype('int')"
      ],
      "metadata": {
        "id": "RP9XpbWTrbYI"
      },
      "execution_count": 66,
      "outputs": []
    },
    {
      "cell_type": "code",
      "source": [
        "train_data.shape"
      ],
      "metadata": {
        "colab": {
          "base_uri": "https://localhost:8080/"
        },
        "id": "8ZM5UN5RrcwN",
        "outputId": "31a8ce34-4cbc-45a3-b583-385e0cf10c39"
      },
      "execution_count": 67,
      "outputs": [
        {
          "output_type": "execute_result",
          "data": {
            "text/plain": [
              "(100000, 26)"
            ]
          },
          "metadata": {},
          "execution_count": 67
        }
      ]
    },
    {
      "cell_type": "code",
      "source": [
        "train_data.head()"
      ],
      "metadata": {
        "colab": {
          "base_uri": "https://localhost:8080/",
          "height": 299
        },
        "id": "FnWhaiWqrpk0",
        "outputId": "ea766faa-9c54-4b13-8e76-5980782d88e3"
      },
      "execution_count": 68,
      "outputs": [
        {
          "output_type": "execute_result",
          "data": {
            "text/plain": [
              "    Age  Annual_Income  Monthly_Inhand_Salary  Num_Bank_Accounts  \\\n",
              "0  23.0       19114.12            1824.843333                3.0   \n",
              "1  23.0       19114.12            1824.843333                3.0   \n",
              "2  23.0       19114.12            1824.843333                3.0   \n",
              "3  23.0       19114.12            1824.843333                3.0   \n",
              "4  23.0       19114.12            1824.843333                3.0   \n",
              "\n",
              "   Num_Credit_Card  Num_of_Loan  Delay_from_due_date  Num_of_Delayed_Payment  \\\n",
              "0              4.0          4.0                    3                     4.0   \n",
              "1              4.0          4.0                   -1                     4.0   \n",
              "2              4.0          4.0                    3                     4.0   \n",
              "3              4.0          4.0                    5                     4.0   \n",
              "4              4.0          4.0                    6                     4.0   \n",
              "\n",
              "   Changed_Credit_Limit  Num_Credit_Inquiries  ...  Credit_Score  \\\n",
              "0                 11.27                   4.0  ...             2   \n",
              "1                 11.27                   4.0  ...             2   \n",
              "2                 11.27                   4.0  ...             2   \n",
              "3                 11.27                   4.0  ...             2   \n",
              "4                 11.27                   4.0  ...             2   \n",
              "\n",
              "   Interest_Rate  Total_EMI_per_month  \\\n",
              "0            3.0            49.574949   \n",
              "1            3.0            49.574949   \n",
              "2            3.0            49.574949   \n",
              "3            3.0            49.574949   \n",
              "4            3.0            49.574949   \n",
              "\n",
              "   Payment_Behaviour_High_spent_Medium_value_payments  \\\n",
              "0                                                  0    \n",
              "1                                                  0    \n",
              "2                                                  0    \n",
              "3                                                  0    \n",
              "4                                                  1    \n",
              "\n",
              "   Payment_Behaviour_High_spent_Small_value_payments  \\\n",
              "0                                                  1   \n",
              "1                                                  0   \n",
              "2                                                  0   \n",
              "3                                                  0   \n",
              "4                                                  0   \n",
              "\n",
              "   Payment_Behaviour_Low_spent_Large_value_payments  \\\n",
              "0                                                 0   \n",
              "1                                                 1   \n",
              "2                                                 0   \n",
              "3                                                 0   \n",
              "4                                                 0   \n",
              "\n",
              "   Payment_Behaviour_Low_spent_Medium_value_payments  \\\n",
              "0                                                  0   \n",
              "1                                                  0   \n",
              "2                                                  1   \n",
              "3                                                  0   \n",
              "4                                                  0   \n",
              "\n",
              "   Payment_Behaviour_Low_spent_Small_value_payments  Payment_of_Min_Amount_No  \\\n",
              "0                                                 0                         1   \n",
              "1                                                 0                         1   \n",
              "2                                                 0                         1   \n",
              "3                                                 1                         1   \n",
              "4                                                 0                         1   \n",
              "\n",
              "   Payment_of_Min_Amount_Yes  \n",
              "0                          0  \n",
              "1                          0  \n",
              "2                          0  \n",
              "3                          0  \n",
              "4                          0  \n",
              "\n",
              "[5 rows x 26 columns]"
            ],
            "text/html": [
              "\n",
              "  <div id=\"df-6969a91f-b2fa-4137-88f3-3f8cde581b95\">\n",
              "    <div class=\"colab-df-container\">\n",
              "      <div>\n",
              "<style scoped>\n",
              "    .dataframe tbody tr th:only-of-type {\n",
              "        vertical-align: middle;\n",
              "    }\n",
              "\n",
              "    .dataframe tbody tr th {\n",
              "        vertical-align: top;\n",
              "    }\n",
              "\n",
              "    .dataframe thead th {\n",
              "        text-align: right;\n",
              "    }\n",
              "</style>\n",
              "<table border=\"1\" class=\"dataframe\">\n",
              "  <thead>\n",
              "    <tr style=\"text-align: right;\">\n",
              "      <th></th>\n",
              "      <th>Age</th>\n",
              "      <th>Annual_Income</th>\n",
              "      <th>Monthly_Inhand_Salary</th>\n",
              "      <th>Num_Bank_Accounts</th>\n",
              "      <th>Num_Credit_Card</th>\n",
              "      <th>Num_of_Loan</th>\n",
              "      <th>Delay_from_due_date</th>\n",
              "      <th>Num_of_Delayed_Payment</th>\n",
              "      <th>Changed_Credit_Limit</th>\n",
              "      <th>Num_Credit_Inquiries</th>\n",
              "      <th>...</th>\n",
              "      <th>Credit_Score</th>\n",
              "      <th>Interest_Rate</th>\n",
              "      <th>Total_EMI_per_month</th>\n",
              "      <th>Payment_Behaviour_High_spent_Medium_value_payments</th>\n",
              "      <th>Payment_Behaviour_High_spent_Small_value_payments</th>\n",
              "      <th>Payment_Behaviour_Low_spent_Large_value_payments</th>\n",
              "      <th>Payment_Behaviour_Low_spent_Medium_value_payments</th>\n",
              "      <th>Payment_Behaviour_Low_spent_Small_value_payments</th>\n",
              "      <th>Payment_of_Min_Amount_No</th>\n",
              "      <th>Payment_of_Min_Amount_Yes</th>\n",
              "    </tr>\n",
              "  </thead>\n",
              "  <tbody>\n",
              "    <tr>\n",
              "      <th>0</th>\n",
              "      <td>23.0</td>\n",
              "      <td>19114.12</td>\n",
              "      <td>1824.843333</td>\n",
              "      <td>3.0</td>\n",
              "      <td>4.0</td>\n",
              "      <td>4.0</td>\n",
              "      <td>3</td>\n",
              "      <td>4.0</td>\n",
              "      <td>11.27</td>\n",
              "      <td>4.0</td>\n",
              "      <td>...</td>\n",
              "      <td>2</td>\n",
              "      <td>3.0</td>\n",
              "      <td>49.574949</td>\n",
              "      <td>0</td>\n",
              "      <td>1</td>\n",
              "      <td>0</td>\n",
              "      <td>0</td>\n",
              "      <td>0</td>\n",
              "      <td>1</td>\n",
              "      <td>0</td>\n",
              "    </tr>\n",
              "    <tr>\n",
              "      <th>1</th>\n",
              "      <td>23.0</td>\n",
              "      <td>19114.12</td>\n",
              "      <td>1824.843333</td>\n",
              "      <td>3.0</td>\n",
              "      <td>4.0</td>\n",
              "      <td>4.0</td>\n",
              "      <td>-1</td>\n",
              "      <td>4.0</td>\n",
              "      <td>11.27</td>\n",
              "      <td>4.0</td>\n",
              "      <td>...</td>\n",
              "      <td>2</td>\n",
              "      <td>3.0</td>\n",
              "      <td>49.574949</td>\n",
              "      <td>0</td>\n",
              "      <td>0</td>\n",
              "      <td>1</td>\n",
              "      <td>0</td>\n",
              "      <td>0</td>\n",
              "      <td>1</td>\n",
              "      <td>0</td>\n",
              "    </tr>\n",
              "    <tr>\n",
              "      <th>2</th>\n",
              "      <td>23.0</td>\n",
              "      <td>19114.12</td>\n",
              "      <td>1824.843333</td>\n",
              "      <td>3.0</td>\n",
              "      <td>4.0</td>\n",
              "      <td>4.0</td>\n",
              "      <td>3</td>\n",
              "      <td>4.0</td>\n",
              "      <td>11.27</td>\n",
              "      <td>4.0</td>\n",
              "      <td>...</td>\n",
              "      <td>2</td>\n",
              "      <td>3.0</td>\n",
              "      <td>49.574949</td>\n",
              "      <td>0</td>\n",
              "      <td>0</td>\n",
              "      <td>0</td>\n",
              "      <td>1</td>\n",
              "      <td>0</td>\n",
              "      <td>1</td>\n",
              "      <td>0</td>\n",
              "    </tr>\n",
              "    <tr>\n",
              "      <th>3</th>\n",
              "      <td>23.0</td>\n",
              "      <td>19114.12</td>\n",
              "      <td>1824.843333</td>\n",
              "      <td>3.0</td>\n",
              "      <td>4.0</td>\n",
              "      <td>4.0</td>\n",
              "      <td>5</td>\n",
              "      <td>4.0</td>\n",
              "      <td>11.27</td>\n",
              "      <td>4.0</td>\n",
              "      <td>...</td>\n",
              "      <td>2</td>\n",
              "      <td>3.0</td>\n",
              "      <td>49.574949</td>\n",
              "      <td>0</td>\n",
              "      <td>0</td>\n",
              "      <td>0</td>\n",
              "      <td>0</td>\n",
              "      <td>1</td>\n",
              "      <td>1</td>\n",
              "      <td>0</td>\n",
              "    </tr>\n",
              "    <tr>\n",
              "      <th>4</th>\n",
              "      <td>23.0</td>\n",
              "      <td>19114.12</td>\n",
              "      <td>1824.843333</td>\n",
              "      <td>3.0</td>\n",
              "      <td>4.0</td>\n",
              "      <td>4.0</td>\n",
              "      <td>6</td>\n",
              "      <td>4.0</td>\n",
              "      <td>11.27</td>\n",
              "      <td>4.0</td>\n",
              "      <td>...</td>\n",
              "      <td>2</td>\n",
              "      <td>3.0</td>\n",
              "      <td>49.574949</td>\n",
              "      <td>1</td>\n",
              "      <td>0</td>\n",
              "      <td>0</td>\n",
              "      <td>0</td>\n",
              "      <td>0</td>\n",
              "      <td>1</td>\n",
              "      <td>0</td>\n",
              "    </tr>\n",
              "  </tbody>\n",
              "</table>\n",
              "<p>5 rows × 26 columns</p>\n",
              "</div>\n",
              "      <button class=\"colab-df-convert\" onclick=\"convertToInteractive('df-6969a91f-b2fa-4137-88f3-3f8cde581b95')\"\n",
              "              title=\"Convert this dataframe to an interactive table.\"\n",
              "              style=\"display:none;\">\n",
              "        \n",
              "  <svg xmlns=\"http://www.w3.org/2000/svg\" height=\"24px\"viewBox=\"0 0 24 24\"\n",
              "       width=\"24px\">\n",
              "    <path d=\"M0 0h24v24H0V0z\" fill=\"none\"/>\n",
              "    <path d=\"M18.56 5.44l.94 2.06.94-2.06 2.06-.94-2.06-.94-.94-2.06-.94 2.06-2.06.94zm-11 1L8.5 8.5l.94-2.06 2.06-.94-2.06-.94L8.5 2.5l-.94 2.06-2.06.94zm10 10l.94 2.06.94-2.06 2.06-.94-2.06-.94-.94-2.06-.94 2.06-2.06.94z\"/><path d=\"M17.41 7.96l-1.37-1.37c-.4-.4-.92-.59-1.43-.59-.52 0-1.04.2-1.43.59L10.3 9.45l-7.72 7.72c-.78.78-.78 2.05 0 2.83L4 21.41c.39.39.9.59 1.41.59.51 0 1.02-.2 1.41-.59l7.78-7.78 2.81-2.81c.8-.78.8-2.07 0-2.86zM5.41 20L4 18.59l7.72-7.72 1.47 1.35L5.41 20z\"/>\n",
              "  </svg>\n",
              "      </button>\n",
              "      \n",
              "  <style>\n",
              "    .colab-df-container {\n",
              "      display:flex;\n",
              "      flex-wrap:wrap;\n",
              "      gap: 12px;\n",
              "    }\n",
              "\n",
              "    .colab-df-convert {\n",
              "      background-color: #E8F0FE;\n",
              "      border: none;\n",
              "      border-radius: 50%;\n",
              "      cursor: pointer;\n",
              "      display: none;\n",
              "      fill: #1967D2;\n",
              "      height: 32px;\n",
              "      padding: 0 0 0 0;\n",
              "      width: 32px;\n",
              "    }\n",
              "\n",
              "    .colab-df-convert:hover {\n",
              "      background-color: #E2EBFA;\n",
              "      box-shadow: 0px 1px 2px rgba(60, 64, 67, 0.3), 0px 1px 3px 1px rgba(60, 64, 67, 0.15);\n",
              "      fill: #174EA6;\n",
              "    }\n",
              "\n",
              "    [theme=dark] .colab-df-convert {\n",
              "      background-color: #3B4455;\n",
              "      fill: #D2E3FC;\n",
              "    }\n",
              "\n",
              "    [theme=dark] .colab-df-convert:hover {\n",
              "      background-color: #434B5C;\n",
              "      box-shadow: 0px 1px 3px 1px rgba(0, 0, 0, 0.15);\n",
              "      filter: drop-shadow(0px 1px 2px rgba(0, 0, 0, 0.3));\n",
              "      fill: #FFFFFF;\n",
              "    }\n",
              "  </style>\n",
              "\n",
              "      <script>\n",
              "        const buttonEl =\n",
              "          document.querySelector('#df-6969a91f-b2fa-4137-88f3-3f8cde581b95 button.colab-df-convert');\n",
              "        buttonEl.style.display =\n",
              "          google.colab.kernel.accessAllowed ? 'block' : 'none';\n",
              "\n",
              "        async function convertToInteractive(key) {\n",
              "          const element = document.querySelector('#df-6969a91f-b2fa-4137-88f3-3f8cde581b95');\n",
              "          const dataTable =\n",
              "            await google.colab.kernel.invokeFunction('convertToInteractive',\n",
              "                                                     [key], {});\n",
              "          if (!dataTable) return;\n",
              "\n",
              "          const docLinkHtml = 'Like what you see? Visit the ' +\n",
              "            '<a target=\"_blank\" href=https://colab.research.google.com/notebooks/data_table.ipynb>data table notebook</a>'\n",
              "            + ' to learn more about interactive tables.';\n",
              "          element.innerHTML = '';\n",
              "          dataTable['output_type'] = 'display_data';\n",
              "          await google.colab.output.renderOutput(dataTable, element);\n",
              "          const docLink = document.createElement('div');\n",
              "          docLink.innerHTML = docLinkHtml;\n",
              "          element.appendChild(docLink);\n",
              "        }\n",
              "      </script>\n",
              "    </div>\n",
              "  </div>\n",
              "  "
            ]
          },
          "metadata": {},
          "execution_count": 68
        }
      ]
    },
    {
      "cell_type": "markdown",
      "source": [
        "# Splitting and training the data"
      ],
      "metadata": {
        "id": "UX3C85LUrwva"
      }
    },
    {
      "cell_type": "code",
      "source": [
        "X = train_data.drop('Credit_Score', axis=1)\n",
        "y = train_data['Credit_Score']"
      ],
      "metadata": {
        "id": "w_SXO69CrqWH"
      },
      "execution_count": 69,
      "outputs": []
    },
    {
      "cell_type": "code",
      "source": [
        "from sklearn.model_selection import train_test_split\n",
        "from sklearn.preprocessing import StandardScaler"
      ],
      "metadata": {
        "id": "eoqpao-MsWxn"
      },
      "execution_count": 75,
      "outputs": []
    },
    {
      "cell_type": "code",
      "source": [
        "X_train, X_test, y_train, y_test = train_test_split(X, y, stratify = y, test_size = 0.25, random_state = 0)"
      ],
      "metadata": {
        "id": "4DtD53rLr7ry"
      },
      "execution_count": 74,
      "outputs": []
    },
    {
      "cell_type": "code",
      "source": [
        "sc = StandardScaler()"
      ],
      "metadata": {
        "id": "6YH7tGh4sEmL"
      },
      "execution_count": 77,
      "outputs": []
    },
    {
      "cell_type": "code",
      "source": [
        "num_columns = list(num_train_data.columns)"
      ],
      "metadata": {
        "id": "aQsFIoiltjzl"
      },
      "execution_count": null,
      "outputs": []
    },
    {
      "cell_type": "code",
      "source": [
        "X_train = sc.fit_transform(X_train)\n",
        "X_test = sc.fit_transform(X_test)"
      ],
      "metadata": {
        "id": "RAdHoRNJsx4v"
      },
      "execution_count": 78,
      "outputs": []
    },
    {
      "cell_type": "code",
      "source": [
        "X.columns"
      ],
      "metadata": {
        "colab": {
          "base_uri": "https://localhost:8080/"
        },
        "id": "0jyJVsU1tdbY",
        "outputId": "1c13df99-e7c6-480a-ee29-4b548893474a"
      },
      "execution_count": 85,
      "outputs": [
        {
          "output_type": "execute_result",
          "data": {
            "text/plain": [
              "Index(['Age', 'Annual_Income', 'Monthly_Inhand_Salary', 'Num_Bank_Accounts',\n",
              "       'Num_Credit_Card', 'Num_of_Loan', 'Delay_from_due_date',\n",
              "       'Num_of_Delayed_Payment', 'Changed_Credit_Limit',\n",
              "       'Num_Credit_Inquiries', 'Credit_Mix', 'Outstanding_Debt',\n",
              "       'Credit_Utilization_Ratio', 'Credit_History_Age',\n",
              "       'Amount_invested_monthly', 'Monthly_Balance', 'Interest_Rate',\n",
              "       'Total_EMI_per_month',\n",
              "       'Payment_Behaviour_High_spent_Medium_value_payments',\n",
              "       'Payment_Behaviour_High_spent_Small_value_payments',\n",
              "       'Payment_Behaviour_Low_spent_Large_value_payments',\n",
              "       'Payment_Behaviour_Low_spent_Medium_value_payments',\n",
              "       'Payment_Behaviour_Low_spent_Small_value_payments',\n",
              "       'Payment_of_Min_Amount_No', 'Payment_of_Min_Amount_Yes'],\n",
              "      dtype='object')"
            ]
          },
          "metadata": {},
          "execution_count": 85
        }
      ]
    },
    {
      "cell_type": "code",
      "source": [
        "columns_names = ['Age', 'Annual_Income', 'Monthly_Inhand_Salary', 'Num_Bank_Accounts',\n",
        "       'Num_Credit_Card', 'Num_of_Loan', 'Delay_from_due_date',\n",
        "       'Num_of_Delayed_Payment', 'Changed_Credit_Limit',\n",
        "       'Num_Credit_Inquiries', 'Credit_Mix', 'Outstanding_Debt',\n",
        "       'Credit_Utilization_Ratio', 'Credit_History_Age',\n",
        "       'Amount_invested_monthly', 'Monthly_Balance', 'Interest_Rate',\n",
        "       'Total_EMI_per_month',\n",
        "       'Payment_Behaviour_High_spent_Medium_value_payments',\n",
        "       'Payment_Behaviour_High_spent_Small_value_payments',\n",
        "       'Payment_Behaviour_Low_spent_Large_value_payments',\n",
        "       'Payment_Behaviour_Low_spent_Medium_value_payments',\n",
        "       'Payment_Behaviour_Low_spent_Small_value_payments',\n",
        "       'Payment_of_Min_Amount_No', 'Payment_of_Min_Amount_Yes']"
      ],
      "metadata": {
        "id": "mLi1k7W7ucvI"
      },
      "execution_count": 86,
      "outputs": []
    },
    {
      "cell_type": "code",
      "source": [
        "X_train = pd.DataFrame(data = X_train, columns = columns_names)\n",
        "X_test = pd.DataFrame(data = X_test, columns = columns_names)"
      ],
      "metadata": {
        "id": "1ugwaa5JuhH2"
      },
      "execution_count": 88,
      "outputs": []
    },
    {
      "cell_type": "markdown",
      "source": [
        "**NN Model 1**"
      ],
      "metadata": {
        "id": "8wA7g0P4wX55"
      }
    },
    {
      "cell_type": "code",
      "source": [
        "def visualize_train_result(history, epochs):\n",
        "    acc = history.history['accuracy']\n",
        "    val_acc = history.history['val_accuracy']\n",
        "\n",
        "    loss = history.history['loss']\n",
        "    val_loss = history.history['val_loss']\n",
        "\n",
        "#     epochs_range = range(epochs)\n",
        "\n",
        "    plt.figure(figsize=(16, 6))\n",
        "    plt.subplot(1, 2, 1)\n",
        "#     plt.plot(epochs_range, acc, label='Training mse')\n",
        "#     plt.plot(epochs_range, val_acc, label='Validation mse')\n",
        "    plt.plot(acc, label='Training mse')\n",
        "    plt.plot(val_acc, label='Validation mse')\n",
        "\n",
        "    plt.legend(loc='lower right')\n",
        "    plt.title('Training and Validation Accuracy')\n",
        "\n",
        "    plt.subplot(1, 2, 2)\n",
        "#     plt.plot(epochs_range, loss, label='Training Loss')\n",
        "#     plt.plot(epochs_range, val_loss, label='Validation Loss')\n",
        "    plt.plot(loss, label='Training Loss')\n",
        "    plt.plot(val_loss, label='Validation Loss')\n",
        "    plt.legend(loc='upper right')\n",
        "    plt.title('Training and Validation Loss')\n",
        "    plt.show()"
      ],
      "metadata": {
        "id": "pMLDuiz3s4vq"
      },
      "execution_count": 79,
      "outputs": []
    },
    {
      "cell_type": "code",
      "source": [
        "import tensorflow as tf\n",
        "from tensorflow import keras\n",
        "from tensorflow.keras import layers\n",
        "from tensorflow.keras import Sequential\n",
        "from tensorflow.keras import optimizers\n",
        "from tensorflow.keras.layers import Dense, Dropout, BatchNormalization\n",
        "from tensorflow.keras.utils import to_categorical\n",
        "from tensorflow.keras.metrics import Precision, Recall\n",
        "from tensorflow.keras.optimizers import Adam, SGD, RMSprop, Adagrad\n",
        "from tensorflow.keras import callbacks"
      ],
      "metadata": {
        "id": "TavaPLN3tEN1"
      },
      "execution_count": 80,
      "outputs": []
    },
    {
      "cell_type": "code",
      "source": [
        "model = Sequential()\n",
        "\n",
        "model.add(Dense(256,activation='relu',input_dim=X_train.shape[1]))\n",
        "model.add(Dropout(0.2))\n",
        "model.add(BatchNormalization())\n",
        "\n",
        "model.add(Dense(128, activation=\"relu\"))\n",
        "model.add(Dropout(0.2))\n",
        "model.add(BatchNormalization())\n",
        "\n",
        "model.add(Dense(32, activation=\"relu\"))\n",
        "model.add(Dropout(0.2))\n",
        "model.add(BatchNormalization())\n",
        "\n",
        "model.add(Dense(3, activation=\"softmax\"))"
      ],
      "metadata": {
        "id": "Rp2ucXv7tI9F"
      },
      "execution_count": 81,
      "outputs": []
    },
    {
      "cell_type": "code",
      "source": [
        "LR = callbacks.ReduceLROnPlateau(monitor='val_loss', factor=0.5, patience=5, cooldown=1, verbose=1) # write the REducelronplateau code here\n",
        "\n",
        "early_stopping = callbacks.EarlyStopping(\n",
        "    monitor='val_loss',\n",
        "    patience=10,\n",
        ")\n",
        "\n",
        "model.compile(\n",
        "    optimizer=Adam(learning_rate=0.1),\n",
        "    loss=\"categorical_crossentropy\",\n",
        "    metrics=['accuracy', Precision(), Recall()]\n",
        ")"
      ],
      "metadata": {
        "id": "s2z3Xg9etMeE"
      },
      "execution_count": 82,
      "outputs": []
    },
    {
      "cell_type": "code",
      "source": [
        "epochs=50\n",
        "history = model.fit(\n",
        "    np.array(X_train.values),to_categorical(y_train),\n",
        "    epochs=epochs,\n",
        "    validation_split=0.2,\n",
        "    batch_size=128,\n",
        "    callbacks=[early_stopping]\n",
        ")"
      ],
      "metadata": {
        "colab": {
          "base_uri": "https://localhost:8080/"
        },
        "id": "XfLKZxjQtOUm",
        "outputId": "7dd23179-da1d-4b59-8c20-201a7b57c9c7"
      },
      "execution_count": 104,
      "outputs": [
        {
          "output_type": "stream",
          "name": "stdout",
          "text": [
            "Epoch 1/50\n",
            "469/469 [==============================] - 5s 10ms/step - loss: 0.7131 - accuracy: 0.6809 - precision: 0.7217 - recall: 0.6171 - val_loss: 0.6735 - val_accuracy: 0.6990 - val_precision: 0.7607 - val_recall: 0.6135\n",
            "Epoch 2/50\n",
            "469/469 [==============================] - 8s 16ms/step - loss: 0.7116 - accuracy: 0.6819 - precision: 0.7226 - recall: 0.6208 - val_loss: 0.7267 - val_accuracy: 0.5811 - val_precision: 0.6089 - val_recall: 0.5223\n",
            "Epoch 3/50\n",
            "469/469 [==============================] - 4s 8ms/step - loss: 0.7111 - accuracy: 0.6829 - precision: 0.7225 - recall: 0.6208 - val_loss: 0.6960 - val_accuracy: 0.6681 - val_precision: 0.7392 - val_recall: 0.5777\n",
            "Epoch 4/50\n",
            "469/469 [==============================] - 5s 10ms/step - loss: 0.7058 - accuracy: 0.6849 - precision: 0.7250 - recall: 0.6230 - val_loss: 0.7149 - val_accuracy: 0.6723 - val_precision: 0.6903 - val_recall: 0.6540\n",
            "Epoch 5/50\n",
            "469/469 [==============================] - 4s 8ms/step - loss: 0.7089 - accuracy: 0.6842 - precision: 0.7236 - recall: 0.6250 - val_loss: 0.6864 - val_accuracy: 0.6826 - val_precision: 0.7553 - val_recall: 0.5893\n",
            "Epoch 6/50\n",
            "469/469 [==============================] - 4s 8ms/step - loss: 0.7061 - accuracy: 0.6851 - precision: 0.7237 - recall: 0.6273 - val_loss: 0.7237 - val_accuracy: 0.6641 - val_precision: 0.6794 - val_recall: 0.6408\n",
            "Epoch 7/50\n",
            "469/469 [==============================] - 5s 10ms/step - loss: 0.7080 - accuracy: 0.6864 - precision: 0.7250 - recall: 0.6273 - val_loss: 0.6964 - val_accuracy: 0.6850 - val_precision: 0.7742 - val_recall: 0.5793\n",
            "Epoch 8/50\n",
            "469/469 [==============================] - 4s 8ms/step - loss: 0.7129 - accuracy: 0.6807 - precision: 0.7191 - recall: 0.6193 - val_loss: 0.7108 - val_accuracy: 0.6784 - val_precision: 0.7135 - val_recall: 0.6241\n",
            "Epoch 9/50\n",
            "469/469 [==============================] - 4s 8ms/step - loss: 0.7067 - accuracy: 0.6826 - precision: 0.7215 - recall: 0.6255 - val_loss: 0.6669 - val_accuracy: 0.7064 - val_precision: 0.7418 - val_recall: 0.6537\n",
            "Epoch 10/50\n",
            "469/469 [==============================] - 4s 9ms/step - loss: 0.7028 - accuracy: 0.6855 - precision: 0.7259 - recall: 0.6276 - val_loss: 0.6713 - val_accuracy: 0.7009 - val_precision: 0.7322 - val_recall: 0.6544\n",
            "Epoch 11/50\n",
            "469/469 [==============================] - 4s 9ms/step - loss: 0.7062 - accuracy: 0.6855 - precision: 0.7233 - recall: 0.6294 - val_loss: 0.7092 - val_accuracy: 0.6547 - val_precision: 0.6864 - val_recall: 0.6200\n",
            "Epoch 12/50\n",
            "469/469 [==============================] - 4s 9ms/step - loss: 0.7068 - accuracy: 0.6857 - precision: 0.7223 - recall: 0.6290 - val_loss: 0.6987 - val_accuracy: 0.7004 - val_precision: 0.7288 - val_recall: 0.6667\n",
            "Epoch 13/50\n",
            "469/469 [==============================] - 5s 10ms/step - loss: 0.7028 - accuracy: 0.6876 - precision: 0.7285 - recall: 0.6281 - val_loss: 0.6856 - val_accuracy: 0.7051 - val_precision: 0.7326 - val_recall: 0.6727\n",
            "Epoch 14/50\n",
            "469/469 [==============================] - 4s 9ms/step - loss: 0.7009 - accuracy: 0.6874 - precision: 0.7261 - recall: 0.6303 - val_loss: 0.6875 - val_accuracy: 0.7067 - val_precision: 0.7361 - val_recall: 0.6674\n",
            "Epoch 15/50\n",
            "469/469 [==============================] - 4s 8ms/step - loss: 0.6986 - accuracy: 0.6886 - precision: 0.7277 - recall: 0.6309 - val_loss: 0.6759 - val_accuracy: 0.7022 - val_precision: 0.7777 - val_recall: 0.5905\n",
            "Epoch 16/50\n",
            "469/469 [==============================] - 4s 8ms/step - loss: 0.7014 - accuracy: 0.6876 - precision: 0.7255 - recall: 0.6313 - val_loss: 0.6811 - val_accuracy: 0.6820 - val_precision: 0.7713 - val_recall: 0.5663\n",
            "Epoch 17/50\n",
            "469/469 [==============================] - 5s 10ms/step - loss: 0.7000 - accuracy: 0.6858 - precision: 0.7238 - recall: 0.6304 - val_loss: 0.6650 - val_accuracy: 0.7073 - val_precision: 0.7401 - val_recall: 0.6575\n",
            "Epoch 18/50\n",
            "469/469 [==============================] - 4s 8ms/step - loss: 0.6990 - accuracy: 0.6880 - precision: 0.7258 - recall: 0.6300 - val_loss: 0.7090 - val_accuracy: 0.7051 - val_precision: 0.7132 - val_recall: 0.6965\n",
            "Epoch 19/50\n",
            "469/469 [==============================] - 4s 8ms/step - loss: 0.6953 - accuracy: 0.6903 - precision: 0.7277 - recall: 0.6338 - val_loss: 0.6744 - val_accuracy: 0.6965 - val_precision: 0.7785 - val_recall: 0.5863\n",
            "Epoch 20/50\n",
            "469/469 [==============================] - 5s 10ms/step - loss: 0.6924 - accuracy: 0.6911 - precision: 0.7277 - recall: 0.6371 - val_loss: 0.6865 - val_accuracy: 0.6882 - val_precision: 0.7097 - val_recall: 0.6583\n",
            "Epoch 21/50\n",
            "469/469 [==============================] - 4s 8ms/step - loss: 0.7009 - accuracy: 0.6887 - precision: 0.7257 - recall: 0.6331 - val_loss: 0.6869 - val_accuracy: 0.6993 - val_precision: 0.7323 - val_recall: 0.6559\n",
            "Epoch 22/50\n",
            "469/469 [==============================] - 4s 8ms/step - loss: 0.6935 - accuracy: 0.6895 - precision: 0.7252 - recall: 0.6352 - val_loss: 0.6665 - val_accuracy: 0.7081 - val_precision: 0.7673 - val_recall: 0.6169\n",
            "Epoch 23/50\n",
            "469/469 [==============================] - 4s 9ms/step - loss: 0.6874 - accuracy: 0.6937 - precision: 0.7314 - recall: 0.6391 - val_loss: 0.6777 - val_accuracy: 0.7039 - val_precision: 0.7171 - val_recall: 0.6888\n",
            "Epoch 24/50\n",
            "469/469 [==============================] - 4s 8ms/step - loss: 0.6879 - accuracy: 0.6910 - precision: 0.7261 - recall: 0.6398 - val_loss: 0.6880 - val_accuracy: 0.6992 - val_precision: 0.7319 - val_recall: 0.6523\n",
            "Epoch 25/50\n",
            "469/469 [==============================] - 4s 8ms/step - loss: 0.6846 - accuracy: 0.6949 - precision: 0.7335 - recall: 0.6408 - val_loss: 0.6778 - val_accuracy: 0.7110 - val_precision: 0.7385 - val_recall: 0.6711\n",
            "Epoch 26/50\n",
            "469/469 [==============================] - 4s 8ms/step - loss: 0.6908 - accuracy: 0.6909 - precision: 0.7275 - recall: 0.6385 - val_loss: 0.6670 - val_accuracy: 0.7089 - val_precision: 0.7430 - val_recall: 0.6594\n",
            "Epoch 27/50\n",
            "469/469 [==============================] - 4s 9ms/step - loss: 0.6884 - accuracy: 0.6935 - precision: 0.7285 - recall: 0.6411 - val_loss: 0.7528 - val_accuracy: 0.6642 - val_precision: 0.6871 - val_recall: 0.6291\n"
          ]
        }
      ]
    },
    {
      "cell_type": "code",
      "source": [
        "visualize_train_result(history, epochs)"
      ],
      "metadata": {
        "colab": {
          "base_uri": "https://localhost:8080/",
          "height": 545
        },
        "id": "7xmh4g05tQeL",
        "outputId": "710dbca1-b286-4914-f515-be3a8e674750"
      },
      "execution_count": 105,
      "outputs": [
        {
          "output_type": "display_data",
          "data": {
            "text/plain": [
              "<Figure size 1600x600 with 2 Axes>"
            ],
            "image/png": "[encoded data removed]"
          },
          "metadata": {}
        }
      ]
    },
    {
      "cell_type": "code",
      "source": [
        "y_pred = model.predict(X_test.values)\n",
        "y_pred = np.argmax(y_pred, axis=1)"
      ],
      "metadata": {
        "colab": {
          "base_uri": "https://localhost:8080/"
        },
        "id": "bNGMhhz9u-6e",
        "outputId": "8457c2b3-18df-4c4d-8d27-34b3f29b819d"
      },
      "execution_count": 106,
      "outputs": [
        {
          "output_type": "stream",
          "name": "stdout",
          "text": [
            "782/782 [==============================] - 1s 2ms/step\n"
          ]
        }
      ]
    },
    {
      "cell_type": "code",
      "source": [
        "from sklearn.metrics import classification_report\n",
        "from sklearn.metrics import confusion_matrix"
      ],
      "metadata": {
        "id": "-idDOEBlvHhe"
      },
      "execution_count": 107,
      "outputs": []
    },
    {
      "cell_type": "code",
      "source": [
        "print(classification_report(y_test.values, y_pred))"
      ],
      "metadata": {
        "colab": {
          "base_uri": "https://localhost:8080/"
        },
        "id": "J6_CB77YvB36",
        "outputId": "96faebd2-3b8e-4d4d-b6e2-e9d9a61abb73"
      },
      "execution_count": 108,
      "outputs": [
        {
          "output_type": "stream",
          "name": "stdout",
          "text": [
            "              precision    recall  f1-score   support\n",
            "\n",
            "           0       0.63      0.82      0.71      7250\n",
            "           1       0.69      0.73      0.71     13293\n",
            "           2       0.75      0.24      0.37      4457\n",
            "\n",
            "    accuracy                           0.67     25000\n",
            "   macro avg       0.69      0.60      0.60     25000\n",
            "weighted avg       0.68      0.67      0.65     25000\n",
            "\n"
          ]
        }
      ]
    },
    {
      "cell_type": "code",
      "source": [],
      "metadata": {
        "id": "UprhYpfavdui"
      },
      "execution_count": 108,
      "outputs": []
    },
    {
      "cell_type": "code",
      "source": [
        "cm = confusion_matrix(y_test.values, y_pred)\n",
        "cm"
      ],
      "metadata": {
        "colab": {
          "base_uri": "https://localhost:8080/"
        },
        "id": "4Uz09nuTvD82",
        "outputId": "72b00d2c-89bd-477f-99ea-fb4718786550"
      },
      "execution_count": 102,
      "outputs": [
        {
          "output_type": "execute_result",
          "data": {
            "text/plain": [
              "array([[ 4692,  2497,    61],\n",
              "       [ 1532, 11430,   331],\n",
              "       [  121,  3314,  1022]])"
            ]
          },
          "metadata": {},
          "execution_count": 102
        }
      ]
    },
    {
      "cell_type": "markdown",
      "source": [
        "**NN model 2**"
      ],
      "metadata": {
        "id": "thSaS1iA03vw"
      }
    },
    {
      "cell_type": "code",
      "source": [
        "model = Sequential()\n",
        "\n",
        "model.add(Dense(1024,activation='relu',input_dim=X_train.shape[1]))\n",
        "model.add(Dropout(0.4))\n",
        "# model.add(BatchNormalization())\n",
        "\n",
        "model.add(Dense(512, activation=\"relu\"))\n",
        "model.add(Dropout(0.3))\n",
        "# model.add(BatchNormalization())\n",
        "\n",
        "model.add(Dense(32, activation=\"relu\"))\n",
        "model.add(Dropout(0.2))\n",
        "model.add(BatchNormalization())\n",
        "\n",
        "model.add(Dense(3, activation=\"softmax\"))"
      ],
      "metadata": {
        "id": "yT16nkSbvRRH"
      },
      "execution_count": 109,
      "outputs": []
    },
    {
      "cell_type": "code",
      "source": [
        "LR = callbacks.ReduceLROnPlateau(monitor='val_loss', factor=0.5, patience=5, cooldown=1, verbose=1) # write the REducelronplateau code here\n",
        "\n",
        "early_stopping = callbacks.EarlyStopping(\n",
        "    monitor='val_loss',\n",
        "    patience=10,\n",
        ")\n",
        "\n",
        "model.compile(\n",
        "    optimizer=Adam(learning_rate=0.1),\n",
        "    loss=\"categorical_crossentropy\",\n",
        "    metrics=['accuracy', Precision(), Recall()]\n",
        ")"
      ],
      "metadata": {
        "id": "BUI0kvDp0770"
      },
      "execution_count": 110,
      "outputs": []
    },
    {
      "cell_type": "code",
      "source": [
        "with tf.device(\"/gpu:0\"):\n",
        "    epochs=50\n",
        "    history = model.fit(\n",
        "        np.array(X_train.values),to_categorical(y_train),\n",
        "        epochs=epochs,\n",
        "        validation_split=0.2,\n",
        "        batch_size=64,\n",
        "        callbacks=[early_stopping, LR]\n",
        "    )"
      ],
      "metadata": {
        "colab": {
          "base_uri": "https://localhost:8080/"
        },
        "id": "hefl90Iw09dL",
        "outputId": "975465b9-0222-43c7-e3c3-e789415df016"
      },
      "execution_count": 111,
      "outputs": [
        {
          "output_type": "stream",
          "name": "stdout",
          "text": [
            "Epoch 1/50\n",
            "938/938 [==============================] - 28s 28ms/step - loss: 0.8108 - accuracy: 0.6288 - precision_1: 0.6530 - recall_1: 0.5812 - val_loss: 0.7584 - val_accuracy: 0.6271 - val_precision_1: 0.6517 - val_recall_1: 0.5990 - lr: 0.1000\n",
            "Epoch 2/50\n",
            "938/938 [==============================] - 26s 27ms/step - loss: 0.7667 - accuracy: 0.6549 - precision_1: 0.6873 - recall_1: 0.6044 - val_loss: 0.7106 - val_accuracy: 0.6869 - val_precision_1: 0.7173 - val_recall_1: 0.6523 - lr: 0.1000\n",
            "Epoch 3/50\n",
            "938/938 [==============================] - 18s 20ms/step - loss: 0.7613 - accuracy: 0.6599 - precision_1: 0.6940 - recall_1: 0.6040 - val_loss: 0.7188 - val_accuracy: 0.6983 - val_precision_1: 0.7222 - val_recall_1: 0.6642 - lr: 0.1000\n",
            "Epoch 4/50\n",
            "938/938 [==============================] - 19s 21ms/step - loss: 0.7498 - accuracy: 0.6620 - precision_1: 0.6988 - recall_1: 0.6044 - val_loss: 0.7028 - val_accuracy: 0.6829 - val_precision_1: 0.7262 - val_recall_1: 0.6139 - lr: 0.1000\n",
            "Epoch 5/50\n",
            "938/938 [==============================] - 18s 19ms/step - loss: 0.7456 - accuracy: 0.6651 - precision_1: 0.7008 - recall_1: 0.6045 - val_loss: 0.7470 - val_accuracy: 0.6486 - val_precision_1: 0.6535 - val_recall_1: 0.6388 - lr: 0.1000\n",
            "Epoch 6/50\n",
            "938/938 [==============================] - 20s 21ms/step - loss: 0.7387 - accuracy: 0.6688 - precision_1: 0.7054 - recall_1: 0.6112 - val_loss: 0.6940 - val_accuracy: 0.6871 - val_precision_1: 0.7255 - val_recall_1: 0.6303 - lr: 0.1000\n",
            "Epoch 7/50\n",
            "938/938 [==============================] - 18s 20ms/step - loss: 0.7440 - accuracy: 0.6674 - precision_1: 0.7012 - recall_1: 0.6108 - val_loss: 0.6835 - val_accuracy: 0.6981 - val_precision_1: 0.7286 - val_recall_1: 0.6549 - lr: 0.1000\n",
            "Epoch 8/50\n",
            "938/938 [==============================] - 19s 21ms/step - loss: 0.7378 - accuracy: 0.6688 - precision_1: 0.7051 - recall_1: 0.6141 - val_loss: 0.6984 - val_accuracy: 0.6821 - val_precision_1: 0.6967 - val_recall_1: 0.6610 - lr: 0.1000\n",
            "Epoch 9/50\n",
            "938/938 [==============================] - 18s 20ms/step - loss: 0.7384 - accuracy: 0.6700 - precision_1: 0.7061 - recall_1: 0.6125 - val_loss: 0.7410 - val_accuracy: 0.6901 - val_precision_1: 0.7275 - val_recall_1: 0.6271 - lr: 0.1000\n",
            "Epoch 10/50\n",
            "938/938 [==============================] - 20s 21ms/step - loss: 0.7347 - accuracy: 0.6714 - precision_1: 0.7080 - recall_1: 0.6150 - val_loss: 0.6837 - val_accuracy: 0.6904 - val_precision_1: 0.7197 - val_recall_1: 0.6500 - lr: 0.1000\n",
            "Epoch 11/50\n",
            "938/938 [==============================] - 19s 20ms/step - loss: 0.7308 - accuracy: 0.6707 - precision_1: 0.7082 - recall_1: 0.6137 - val_loss: 0.6944 - val_accuracy: 0.6795 - val_precision_1: 0.7244 - val_recall_1: 0.6258 - lr: 0.1000\n",
            "Epoch 12/50\n",
            "936/938 [============================>.] - ETA: 0s - loss: 0.7303 - accuracy: 0.6733 - precision_1: 0.7090 - recall_1: 0.6173\n",
            "Epoch 12: ReduceLROnPlateau reducing learning rate to 0.05000000074505806.\n",
            "938/938 [==============================] - 20s 21ms/step - loss: 0.7305 - accuracy: 0.6732 - precision_1: 0.7089 - recall_1: 0.6171 - val_loss: 0.7309 - val_accuracy: 0.6737 - val_precision_1: 0.6938 - val_recall_1: 0.6512 - lr: 0.1000\n",
            "Epoch 13/50\n",
            "938/938 [==============================] - 18s 19ms/step - loss: 0.6986 - accuracy: 0.6892 - precision_1: 0.7295 - recall_1: 0.6262 - val_loss: 0.6667 - val_accuracy: 0.7058 - val_precision_1: 0.7387 - val_recall_1: 0.6617 - lr: 0.0500\n",
            "Epoch 14/50\n",
            "938/938 [==============================] - 20s 21ms/step - loss: 0.6973 - accuracy: 0.6905 - precision_1: 0.7301 - recall_1: 0.6285 - val_loss: 0.6754 - val_accuracy: 0.7016 - val_precision_1: 0.7502 - val_recall_1: 0.6367 - lr: 0.0500\n",
            "Epoch 15/50\n",
            "938/938 [==============================] - 18s 20ms/step - loss: 0.6971 - accuracy: 0.6889 - precision_1: 0.7310 - recall_1: 0.6258 - val_loss: 0.6665 - val_accuracy: 0.7021 - val_precision_1: 0.7599 - val_recall_1: 0.6241 - lr: 0.0500\n",
            "Epoch 16/50\n",
            "938/938 [==============================] - 19s 20ms/step - loss: 0.6940 - accuracy: 0.6906 - precision_1: 0.7309 - recall_1: 0.6309 - val_loss: 0.6874 - val_accuracy: 0.6890 - val_precision_1: 0.7479 - val_recall_1: 0.6045 - lr: 0.0500\n",
            "Epoch 17/50\n",
            "938/938 [==============================] - 19s 21ms/step - loss: 0.6940 - accuracy: 0.6894 - precision_1: 0.7289 - recall_1: 0.6278 - val_loss: 0.6775 - val_accuracy: 0.6860 - val_precision_1: 0.7750 - val_recall_1: 0.5719 - lr: 0.0500\n",
            "Epoch 18/50\n",
            "938/938 [==============================] - 19s 21ms/step - loss: 0.6922 - accuracy: 0.6906 - precision_1: 0.7297 - recall_1: 0.6305 - val_loss: 0.6678 - val_accuracy: 0.7029 - val_precision_1: 0.7385 - val_recall_1: 0.6581 - lr: 0.0500\n",
            "Epoch 19/50\n",
            "938/938 [==============================] - 19s 20ms/step - loss: 0.6908 - accuracy: 0.6905 - precision_1: 0.7318 - recall_1: 0.6304 - val_loss: 0.6681 - val_accuracy: 0.7068 - val_precision_1: 0.7555 - val_recall_1: 0.6333 - lr: 0.0500\n",
            "Epoch 20/50\n",
            "938/938 [==============================] - ETA: 0s - loss: 0.6882 - accuracy: 0.6922 - precision_1: 0.7301 - recall_1: 0.6347\n",
            "Epoch 20: ReduceLROnPlateau reducing learning rate to 0.02500000037252903.\n",
            "938/938 [==============================] - 18s 20ms/step - loss: 0.6882 - accuracy: 0.6922 - precision_1: 0.7301 - recall_1: 0.6347 - val_loss: 0.6678 - val_accuracy: 0.7061 - val_precision_1: 0.7635 - val_recall_1: 0.6227 - lr: 0.0500\n",
            "Epoch 21/50\n",
            "938/938 [==============================] - 20s 21ms/step - loss: 0.6681 - accuracy: 0.7014 - precision_1: 0.7443 - recall_1: 0.6395 - val_loss: 0.6608 - val_accuracy: 0.7094 - val_precision_1: 0.7570 - val_recall_1: 0.6333 - lr: 0.0250\n",
            "Epoch 22/50\n",
            "938/938 [==============================] - 18s 19ms/step - loss: 0.6643 - accuracy: 0.7048 - precision_1: 0.7470 - recall_1: 0.6428 - val_loss: 0.6669 - val_accuracy: 0.7049 - val_precision_1: 0.7260 - val_recall_1: 0.6807 - lr: 0.0250\n",
            "Epoch 23/50\n",
            "938/938 [==============================] - 19s 21ms/step - loss: 0.6637 - accuracy: 0.7048 - precision_1: 0.7448 - recall_1: 0.6457 - val_loss: 0.6529 - val_accuracy: 0.7067 - val_precision_1: 0.7521 - val_recall_1: 0.6451 - lr: 0.0250\n",
            "Epoch 24/50\n",
            "938/938 [==============================] - 18s 20ms/step - loss: 0.6599 - accuracy: 0.7069 - precision_1: 0.7474 - recall_1: 0.6455 - val_loss: 0.6944 - val_accuracy: 0.6451 - val_precision_1: 0.6631 - val_recall_1: 0.6106 - lr: 0.0250\n",
            "Epoch 25/50\n",
            "938/938 [==============================] - 20s 22ms/step - loss: 0.6565 - accuracy: 0.7073 - precision_1: 0.7469 - recall_1: 0.6491 - val_loss: 0.6590 - val_accuracy: 0.7023 - val_precision_1: 0.7605 - val_recall_1: 0.6213 - lr: 0.0250\n",
            "Epoch 26/50\n",
            "938/938 [==============================] - 19s 20ms/step - loss: 0.6589 - accuracy: 0.7066 - precision_1: 0.7463 - recall_1: 0.6496 - val_loss: 0.6672 - val_accuracy: 0.7063 - val_precision_1: 0.7398 - val_recall_1: 0.6581 - lr: 0.0250\n",
            "Epoch 27/50\n",
            "938/938 [==============================] - 19s 20ms/step - loss: 0.6574 - accuracy: 0.7071 - precision_1: 0.7465 - recall_1: 0.6499 - val_loss: 0.6567 - val_accuracy: 0.7043 - val_precision_1: 0.7550 - val_recall_1: 0.6335 - lr: 0.0250\n",
            "Epoch 28/50\n",
            "938/938 [==============================] - ETA: 0s - loss: 0.6520 - accuracy: 0.7100 - precision_1: 0.7483 - recall_1: 0.6549\n",
            "Epoch 28: ReduceLROnPlateau reducing learning rate to 0.012500000186264515.\n",
            "938/938 [==============================] - 20s 21ms/step - loss: 0.6520 - accuracy: 0.7100 - precision_1: 0.7483 - recall_1: 0.6549 - val_loss: 0.6735 - val_accuracy: 0.7034 - val_precision_1: 0.7333 - val_recall_1: 0.6593 - lr: 0.0250\n",
            "Epoch 29/50\n",
            "938/938 [==============================] - 19s 20ms/step - loss: 0.6405 - accuracy: 0.7163 - precision_1: 0.7548 - recall_1: 0.6585 - val_loss: 0.6487 - val_accuracy: 0.7083 - val_precision_1: 0.7604 - val_recall_1: 0.6351 - lr: 0.0125\n",
            "Epoch 30/50\n",
            "938/938 [==============================] - 18s 20ms/step - loss: 0.6378 - accuracy: 0.7151 - precision_1: 0.7545 - recall_1: 0.6593 - val_loss: 0.6489 - val_accuracy: 0.7123 - val_precision_1: 0.7419 - val_recall_1: 0.6741 - lr: 0.0125\n",
            "Epoch 31/50\n",
            "938/938 [==============================] - 18s 20ms/step - loss: 0.6367 - accuracy: 0.7185 - precision_1: 0.7568 - recall_1: 0.6610 - val_loss: 0.6544 - val_accuracy: 0.7065 - val_precision_1: 0.7650 - val_recall_1: 0.6237 - lr: 0.0125\n",
            "Epoch 32/50\n",
            "938/938 [==============================] - 19s 20ms/step - loss: 0.6345 - accuracy: 0.7193 - precision_1: 0.7587 - recall_1: 0.6624 - val_loss: 0.6498 - val_accuracy: 0.7085 - val_precision_1: 0.7593 - val_recall_1: 0.6409 - lr: 0.0125\n",
            "Epoch 33/50\n",
            "938/938 [==============================] - 18s 20ms/step - loss: 0.6345 - accuracy: 0.7185 - precision_1: 0.7560 - recall_1: 0.6638 - val_loss: 0.6442 - val_accuracy: 0.7153 - val_precision_1: 0.7551 - val_recall_1: 0.6599 - lr: 0.0125\n",
            "Epoch 34/50\n",
            "938/938 [==============================] - 20s 21ms/step - loss: 0.6313 - accuracy: 0.7181 - precision_1: 0.7572 - recall_1: 0.6626 - val_loss: 0.6473 - val_accuracy: 0.7137 - val_precision_1: 0.7635 - val_recall_1: 0.6438 - lr: 0.0125\n",
            "Epoch 35/50\n",
            "938/938 [==============================] - 19s 20ms/step - loss: 0.6303 - accuracy: 0.7197 - precision_1: 0.7579 - recall_1: 0.6668 - val_loss: 0.6520 - val_accuracy: 0.7065 - val_precision_1: 0.7553 - val_recall_1: 0.6417 - lr: 0.0125\n",
            "Epoch 36/50\n",
            "938/938 [==============================] - 20s 21ms/step - loss: 0.6278 - accuracy: 0.7203 - precision_1: 0.7574 - recall_1: 0.6670 - val_loss: 0.6577 - val_accuracy: 0.7031 - val_precision_1: 0.7461 - val_recall_1: 0.6475 - lr: 0.0125\n",
            "Epoch 37/50\n",
            "938/938 [==============================] - 18s 20ms/step - loss: 0.6277 - accuracy: 0.7215 - precision_1: 0.7586 - recall_1: 0.6663 - val_loss: 0.6431 - val_accuracy: 0.7165 - val_precision_1: 0.7527 - val_recall_1: 0.6648 - lr: 0.0125\n",
            "Epoch 38/50\n",
            "938/938 [==============================] - 19s 20ms/step - loss: 0.6256 - accuracy: 0.7219 - precision_1: 0.7580 - recall_1: 0.6709 - val_loss: 0.6603 - val_accuracy: 0.6916 - val_precision_1: 0.7388 - val_recall_1: 0.6343 - lr: 0.0125\n",
            "Epoch 39/50\n",
            "938/938 [==============================] - 20s 21ms/step - loss: 0.6239 - accuracy: 0.7214 - precision_1: 0.7596 - recall_1: 0.6697 - val_loss: 0.6444 - val_accuracy: 0.7179 - val_precision_1: 0.7623 - val_recall_1: 0.6535 - lr: 0.0125\n",
            "Epoch 40/50\n",
            "938/938 [==============================] - 20s 21ms/step - loss: 0.6219 - accuracy: 0.7255 - precision_1: 0.7604 - recall_1: 0.6743 - val_loss: 0.6453 - val_accuracy: 0.7125 - val_precision_1: 0.7673 - val_recall_1: 0.6347 - lr: 0.0125\n",
            "Epoch 41/50\n",
            "938/938 [==============================] - 18s 19ms/step - loss: 0.6201 - accuracy: 0.7248 - precision_1: 0.7597 - recall_1: 0.6725 - val_loss: 0.6403 - val_accuracy: 0.7139 - val_precision_1: 0.7642 - val_recall_1: 0.6524 - lr: 0.0125\n",
            "Epoch 42/50\n",
            "938/938 [==============================] - 18s 20ms/step - loss: 0.6156 - accuracy: 0.7257 - precision_1: 0.7618 - recall_1: 0.6744 - val_loss: 0.6386 - val_accuracy: 0.7168 - val_precision_1: 0.7472 - val_recall_1: 0.6743 - lr: 0.0125\n",
            "Epoch 43/50\n",
            "938/938 [==============================] - 19s 20ms/step - loss: 0.6182 - accuracy: 0.7250 - precision_1: 0.7602 - recall_1: 0.6735 - val_loss: 0.6399 - val_accuracy: 0.7149 - val_precision_1: 0.7560 - val_recall_1: 0.6538 - lr: 0.0125\n",
            "Epoch 44/50\n",
            "938/938 [==============================] - 18s 20ms/step - loss: 0.6164 - accuracy: 0.7252 - precision_1: 0.7602 - recall_1: 0.6744 - val_loss: 0.6402 - val_accuracy: 0.7179 - val_precision_1: 0.7521 - val_recall_1: 0.6664 - lr: 0.0125\n",
            "Epoch 45/50\n",
            "938/938 [==============================] - 19s 20ms/step - loss: 0.6130 - accuracy: 0.7262 - precision_1: 0.7617 - recall_1: 0.6788 - val_loss: 0.6450 - val_accuracy: 0.7157 - val_precision_1: 0.7558 - val_recall_1: 0.6628 - lr: 0.0125\n",
            "Epoch 46/50\n",
            "938/938 [==============================] - 18s 20ms/step - loss: 0.6139 - accuracy: 0.7268 - precision_1: 0.7616 - recall_1: 0.6777 - val_loss: 0.6390 - val_accuracy: 0.7189 - val_precision_1: 0.7623 - val_recall_1: 0.6583 - lr: 0.0125\n",
            "Epoch 47/50\n",
            "937/938 [============================>.] - ETA: 0s - loss: 0.6118 - accuracy: 0.7291 - precision_1: 0.7655 - recall_1: 0.6791\n",
            "Epoch 47: ReduceLROnPlateau reducing learning rate to 0.0062500000931322575.\n",
            "938/938 [==============================] - 19s 21ms/step - loss: 0.6117 - accuracy: 0.7291 - precision_1: 0.7655 - recall_1: 0.6791 - val_loss: 0.6640 - val_accuracy: 0.6974 - val_precision_1: 0.7508 - val_recall_1: 0.6341 - lr: 0.0125\n",
            "Epoch 48/50\n",
            "938/938 [==============================] - 19s 20ms/step - loss: 0.6030 - accuracy: 0.7304 - precision_1: 0.7657 - recall_1: 0.6804 - val_loss: 0.6352 - val_accuracy: 0.7212 - val_precision_1: 0.7609 - val_recall_1: 0.6644 - lr: 0.0063\n",
            "Epoch 49/50\n",
            "938/938 [==============================] - 19s 20ms/step - loss: 0.6016 - accuracy: 0.7309 - precision_1: 0.7657 - recall_1: 0.6826 - val_loss: 0.6355 - val_accuracy: 0.7191 - val_precision_1: 0.7525 - val_recall_1: 0.6763 - lr: 0.0063\n",
            "Epoch 50/50\n",
            "938/938 [==============================] - 20s 21ms/step - loss: 0.6014 - accuracy: 0.7322 - precision_1: 0.7676 - recall_1: 0.6838 - val_loss: 0.6369 - val_accuracy: 0.7210 - val_precision_1: 0.7547 - val_recall_1: 0.6753 - lr: 0.0063\n"
          ]
        }
      ]
    },
    {
      "cell_type": "code",
      "source": [
        "visualize_train_result(history, epochs)"
      ],
      "metadata": {
        "colab": {
          "base_uri": "https://localhost:8080/",
          "height": 545
        },
        "id": "30j0gNmJ0_t7",
        "outputId": "073ab5ba-04a8-4c03-c73b-e28d6f39fcf1"
      },
      "execution_count": 112,
      "outputs": [
        {
          "output_type": "display_data",
          "data": {
            "text/plain": [
              "<Figure size 1600x600 with 2 Axes>"
            ],
            "image/png": "[encoded data removed]"
          },
          "metadata": {}
        }
      ]
    },
    {
      "cell_type": "code",
      "source": [
        "y_pred = model.predict(X_test.values)\n",
        "y_pred = np.argmax(y_pred, axis=1)"
      ],
      "metadata": {
        "colab": {
          "base_uri": "https://localhost:8080/"
        },
        "id": "O3zCVXd61DBw",
        "outputId": "cd5556f3-4f80-4cfe-f567-813dbf48224c"
      },
      "execution_count": 113,
      "outputs": [
        {
          "output_type": "stream",
          "name": "stdout",
          "text": [
            "782/782 [==============================] - 3s 3ms/step\n"
          ]
        }
      ]
    },
    {
      "cell_type": "code",
      "source": [
        "print(classification_report(y_test.values, y_pred))"
      ],
      "metadata": {
        "colab": {
          "base_uri": "https://localhost:8080/"
        },
        "id": "7UjYQKgl1FXO",
        "outputId": "6922741a-4551-4aff-d911-0bcc3987b21f"
      },
      "execution_count": 114,
      "outputs": [
        {
          "output_type": "stream",
          "name": "stdout",
          "text": [
            "              precision    recall  f1-score   support\n",
            "\n",
            "           0       0.76      0.69      0.72      7250\n",
            "           1       0.77      0.75      0.76     13293\n",
            "           2       0.58      0.72      0.65      4457\n",
            "\n",
            "    accuracy                           0.73     25000\n",
            "   macro avg       0.70      0.72      0.71     25000\n",
            "weighted avg       0.73      0.73      0.73     25000\n",
            "\n"
          ]
        }
      ]
    },
    {
      "cell_type": "code",
      "source": [
        "cm = confusion_matrix(y_test.values, y_pred)\n",
        "cm"
      ],
      "metadata": {
        "colab": {
          "base_uri": "https://localhost:8080/"
        },
        "id": "5lFsnuEG1HhY",
        "outputId": "bba3231b-4a91-4b54-fcc5-95086947444d"
      },
      "execution_count": 115,
      "outputs": [
        {
          "output_type": "execute_result",
          "data": {
            "text/plain": [
              "array([[4996, 1771,  483],\n",
              "       [1543, 9935, 1815],\n",
              "       [  70, 1165, 3222]])"
            ]
          },
          "metadata": {},
          "execution_count": 115
        }
      ]
    }
  ]
}